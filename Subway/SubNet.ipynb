{
  "cells": [
    {
      "cell_type": "markdown",
      "id": "0474a0c2",
      "metadata": {
        "id": "0474a0c2"
      },
      "source": [
        "# Seed"
      ]
    },
    {
      "cell_type": "code",
      "execution_count": null,
      "id": "0bb65751",
      "metadata": {
        "id": "0bb65751"
      },
      "outputs": [],
      "source": [
        "import random\n",
        "import numpy as np\n",
        "\n",
        "\n",
        "seed = 42\n",
        "random.seed(seed)\n",
        "np.random.seed(seed)"
      ]
    },
    {
      "cell_type": "markdown",
      "id": "46e45f25",
      "metadata": {
        "id": "46e45f25"
      },
      "source": [
        "# Data"
      ]
    },
    {
      "cell_type": "markdown",
      "id": "f884b51c",
      "metadata": {
        "id": "f884b51c"
      },
      "source": [
        "## Data Info"
      ]
    },
    {
      "cell_type": "code",
      "execution_count": null,
      "id": "aa9a5b72",
      "metadata": {
        "id": "aa9a5b72",
        "outputId": "ebf66ca8-4566-4442-c0dc-548555d9f7dd"
      },
      "outputs": [
        {
          "data": {
            "text/html": [
              "<div>\n",
              "<style scoped>\n",
              "    .dataframe tbody tr th:only-of-type {\n",
              "        vertical-align: middle;\n",
              "    }\n",
              "\n",
              "    .dataframe tbody tr th {\n",
              "        vertical-align: top;\n",
              "    }\n",
              "\n",
              "    .dataframe thead th {\n",
              "        text-align: right;\n",
              "    }\n",
              "</style>\n",
              "<table border=\"1\" class=\"dataframe\">\n",
              "  <thead>\n",
              "    <tr style=\"text-align: right;\">\n",
              "      <th></th>\n",
              "      <th>id</th>\n",
              "      <th>ticket_id</th>\n",
              "      <th>ticket_type_nm</th>\n",
              "      <th>entrance_id</th>\n",
              "      <th>entrance_nm</th>\n",
              "      <th>station_id</th>\n",
              "      <th>station_nm</th>\n",
              "      <th>line_id</th>\n",
              "      <th>line_nm</th>\n",
              "      <th>pass_dttm</th>\n",
              "      <th>time_to_under</th>\n",
              "      <th>label</th>\n",
              "    </tr>\n",
              "  </thead>\n",
              "  <tbody>\n",
              "    <tr>\n",
              "      <th>0</th>\n",
              "      <td>1</td>\n",
              "      <td>40BD89EC85646EFB69E283F39C298E60</td>\n",
              "      <td>Пропуск FacePay</td>\n",
              "      <td>2402</td>\n",
              "      <td>Лефортово БКЛ</td>\n",
              "      <td>11007</td>\n",
              "      <td>Лефортово</td>\n",
              "      <td>11</td>\n",
              "      <td>Большая кольцевая</td>\n",
              "      <td>2022-09-12 05:00:13</td>\n",
              "      <td>216.316667</td>\n",
              "      <td>8001</td>\n",
              "    </tr>\n",
              "    <tr>\n",
              "      <th>1</th>\n",
              "      <td>2</td>\n",
              "      <td>126727A96489CC976A8C08E5CEB00542</td>\n",
              "      <td>СК учащегося 30 дней</td>\n",
              "      <td>110</td>\n",
              "      <td>Войковская ( Южный )</td>\n",
              "      <td>2006</td>\n",
              "      <td>Войковская</td>\n",
              "      <td>2</td>\n",
              "      <td>Замоскворецкая</td>\n",
              "      <td>2022-09-12 05:00:54</td>\n",
              "      <td>648.183333</td>\n",
              "      <td>9011</td>\n",
              "    </tr>\n",
              "    <tr>\n",
              "      <th>2</th>\n",
              "      <td>3</td>\n",
              "      <td>D28CE6A9E0E5B6D213470A97CFF32485</td>\n",
              "      <td>БСК дружинника г.Москвы</td>\n",
              "      <td>110</td>\n",
              "      <td>Войковская ( Южный )</td>\n",
              "      <td>2006</td>\n",
              "      <td>Войковская</td>\n",
              "      <td>2</td>\n",
              "      <td>Замоскворецкая</td>\n",
              "      <td>2022-09-12 05:00:55</td>\n",
              "      <td>865.333333</td>\n",
              "      <td>7022</td>\n",
              "    </tr>\n",
              "    <tr>\n",
              "      <th>3</th>\n",
              "      <td>4</td>\n",
              "      <td>015DA44B523C062B5BFEFF3FB0E64B9E</td>\n",
              "      <td>30 дней</td>\n",
              "      <td>110</td>\n",
              "      <td>Войковская ( Южный )</td>\n",
              "      <td>2006</td>\n",
              "      <td>Войковская</td>\n",
              "      <td>2</td>\n",
              "      <td>Замоскворецкая</td>\n",
              "      <td>2022-09-12 05:01:13</td>\n",
              "      <td>1048.233333</td>\n",
              "      <td>2022</td>\n",
              "    </tr>\n",
              "    <tr>\n",
              "      <th>4</th>\n",
              "      <td>5</td>\n",
              "      <td>95B19C6F3A504727AC3EA56EB7E3E80F</td>\n",
              "      <td>КОШЕЛЕК</td>\n",
              "      <td>110</td>\n",
              "      <td>Войковская ( Южный )</td>\n",
              "      <td>2006</td>\n",
              "      <td>Войковская</td>\n",
              "      <td>2</td>\n",
              "      <td>Замоскворецкая</td>\n",
              "      <td>2022-09-12 05:02:55</td>\n",
              "      <td>965.600000</td>\n",
              "      <td>2017</td>\n",
              "    </tr>\n",
              "  </tbody>\n",
              "</table>\n",
              "</div>"
            ],
            "text/plain": [
              "   id                         ticket_id           ticket_type_nm  entrance_id  \\\n",
              "0   1  40BD89EC85646EFB69E283F39C298E60          Пропуск FacePay         2402   \n",
              "1   2  126727A96489CC976A8C08E5CEB00542     СК учащегося 30 дней          110   \n",
              "2   3  D28CE6A9E0E5B6D213470A97CFF32485  БСК дружинника г.Москвы          110   \n",
              "3   4  015DA44B523C062B5BFEFF3FB0E64B9E                  30 дней          110   \n",
              "4   5  95B19C6F3A504727AC3EA56EB7E3E80F                  КОШЕЛЕК          110   \n",
              "\n",
              "            entrance_nm  station_id  station_nm  line_id            line_nm  \\\n",
              "0         Лефортово БКЛ       11007   Лефортово       11  Большая кольцевая   \n",
              "1  Войковская ( Южный )        2006  Войковская        2     Замоскворецкая   \n",
              "2  Войковская ( Южный )        2006  Войковская        2     Замоскворецкая   \n",
              "3  Войковская ( Южный )        2006  Войковская        2     Замоскворецкая   \n",
              "4  Войковская ( Южный )        2006  Войковская        2     Замоскворецкая   \n",
              "\n",
              "             pass_dttm  time_to_under  label  \n",
              "0  2022-09-12 05:00:13     216.316667   8001  \n",
              "1  2022-09-12 05:00:54     648.183333   9011  \n",
              "2  2022-09-12 05:00:55     865.333333   7022  \n",
              "3  2022-09-12 05:01:13    1048.233333   2022  \n",
              "4  2022-09-12 05:02:55     965.600000   2017  "
            ]
          },
          "execution_count": 2,
          "metadata": {},
          "output_type": "execute_result"
        }
      ],
      "source": [
        "import pandas as pd\n",
        "\n",
        "\n",
        "data = pd.read_csv('data/train.csv')\n",
        "data.head()"
      ]
    },
    {
      "cell_type": "code",
      "execution_count": null,
      "id": "678e2e60",
      "metadata": {
        "id": "678e2e60",
        "outputId": "5fa6b2d1-6972-454e-9a91-096b8c42fa4e"
      },
      "outputs": [
        {
          "name": "stdout",
          "output_type": "stream",
          "text": [
            "<class 'pandas.core.frame.DataFrame'>\n",
            "RangeIndex: 1091021 entries, 0 to 1091020\n",
            "Data columns (total 12 columns):\n",
            " #   Column          Non-Null Count    Dtype  \n",
            "---  ------          --------------    -----  \n",
            " 0   id              1091021 non-null  int64  \n",
            " 1   ticket_id       1091021 non-null  object \n",
            " 2   ticket_type_nm  1091021 non-null  object \n",
            " 3   entrance_id     1091021 non-null  int64  \n",
            " 4   entrance_nm     1091021 non-null  object \n",
            " 5   station_id      1091021 non-null  int64  \n",
            " 6   station_nm      1091021 non-null  object \n",
            " 7   line_id         1091021 non-null  int64  \n",
            " 8   line_nm         1091021 non-null  object \n",
            " 9   pass_dttm       1091021 non-null  object \n",
            " 10  time_to_under   1091021 non-null  float64\n",
            " 11  label           1091021 non-null  int64  \n",
            "dtypes: float64(1), int64(5), object(6)\n",
            "memory usage: 99.9+ MB\n"
          ]
        }
      ],
      "source": [
        "data.info()"
      ]
    },
    {
      "cell_type": "code",
      "execution_count": null,
      "id": "5ec8f487",
      "metadata": {
        "scrolled": true,
        "id": "5ec8f487",
        "outputId": "cda7bebf-e506-400a-f34d-78b1886b31e4"
      },
      "outputs": [
        {
          "data": {
            "text/plain": [
              "3002     17272\n",
              "6008     15541\n",
              "1022     13758\n",
              "5010     13122\n",
              "7022     13080\n",
              "         ...  \n",
              "13002       24\n",
              "13003       23\n",
              "13006       17\n",
              "13005       14\n",
              "13004        7\n",
              "Name: label, Length: 276, dtype: int64"
            ]
          },
          "execution_count": 4,
          "metadata": {},
          "output_type": "execute_result"
        }
      ],
      "source": [
        "data['label'].value_counts()"
      ]
    },
    {
      "cell_type": "markdown",
      "id": "629f5a28",
      "metadata": {
        "id": "629f5a28"
      },
      "source": [
        "## Data Upd"
      ]
    },
    {
      "cell_type": "code",
      "execution_count": null,
      "id": "28ec52ab",
      "metadata": {
        "id": "28ec52ab"
      },
      "outputs": [],
      "source": [
        "from datetime import datetime\n",
        "from datetime import timedelta\n",
        "import numpy as np\n",
        "\n",
        "\n",
        "def dttm_weekday(dttm):\n",
        "    dttm = np.array(dttm)\n",
        "    weekdays = np.zeros(len(dttm)).astype(int)\n",
        "    for i, date in enumerate(dttm):\n",
        "        weekdays[i] = datetime.strptime(date, '%Y-%m-%d %H:%M:%S').weekday()\n",
        "    return weekdays\n",
        "\n",
        "\n",
        "def dttm_seconds(dttm):\n",
        "    dttm = np.array(dttm)\n",
        "    seconds = np.zeros(len(dttm)).astype(int)\n",
        "    for i, date in enumerate(dttm):\n",
        "        dt = datetime.strptime(date.split()[1], '%H:%M:%S')\n",
        "        seconds[i] = timedelta(hours=dt.hour, minutes=dt.minute, seconds=dt.second).total_seconds()\n",
        "    return seconds\n",
        "\n",
        "\n",
        "def rush_hour(dttm):\n",
        "    dttm = np.array(dttm)\n",
        "    r_hour = np.zeros(len(dttm)).astype(int)\n",
        "    for i, date in enumerate(dttm):\n",
        "        dt = datetime.strptime(date.split()[1], '%H:%M:%S')\n",
        "        if 7 <= dt.hour <= 10 or 17 <= dt.hour <=20:\n",
        "            r_hour[i] = 1\n",
        "    return r_hour\n",
        "\n",
        "\n",
        "def dttm_am_pm(dttm):\n",
        "    dttm = np.array(dttm)\n",
        "    r_hour = np.zeros(len(dttm)).astype(int)\n",
        "    for i, date in enumerate(dttm):\n",
        "        dt = datetime.strptime(date.split()[1], '%H:%M:%S')\n",
        "        if dt.hour >= 12:\n",
        "            r_hour[i] = 1\n",
        "    return r_hour"
      ]
    },
    {
      "cell_type": "code",
      "execution_count": null,
      "id": "6a931d31",
      "metadata": {
        "id": "6a931d31"
      },
      "outputs": [],
      "source": [
        "from sklearn.preprocessing import LabelEncoder\n",
        "\n",
        "\n",
        "label_encoder = LabelEncoder()\n",
        "data['ticket_type_nm'] = label_encoder.fit_transform(data['ticket_type_nm'])\n",
        "\n",
        "data = data.drop(columns=['id', 'ticket_id', 'entrance_nm', 'station_nm', 'line_nm'])\n",
        "data['weekday'] = dttm_weekday(data['pass_dttm'])\n",
        "data['seconds'] = dttm_seconds(data['pass_dttm'])\n",
        "data['rush_hour'] = rush_hour(data['pass_dttm'])\n",
        "data['am_pm'] = dttm_am_pm(data['pass_dttm'])\n",
        "data = data.drop(columns=['pass_dttm'])"
      ]
    },
    {
      "cell_type": "code",
      "execution_count": null,
      "id": "a7c199ab",
      "metadata": {
        "scrolled": true,
        "id": "a7c199ab",
        "outputId": "1a877971-611b-4fcb-9e04-4d248f150e8c"
      },
      "outputs": [
        {
          "data": {
            "text/html": [
              "<div>\n",
              "<style scoped>\n",
              "    .dataframe tbody tr th:only-of-type {\n",
              "        vertical-align: middle;\n",
              "    }\n",
              "\n",
              "    .dataframe tbody tr th {\n",
              "        vertical-align: top;\n",
              "    }\n",
              "\n",
              "    .dataframe thead th {\n",
              "        text-align: right;\n",
              "    }\n",
              "</style>\n",
              "<table border=\"1\" class=\"dataframe\">\n",
              "  <thead>\n",
              "    <tr style=\"text-align: right;\">\n",
              "      <th></th>\n",
              "      <th>ticket_type_nm</th>\n",
              "      <th>entrance_id</th>\n",
              "      <th>station_id</th>\n",
              "      <th>line_id</th>\n",
              "      <th>time_to_under</th>\n",
              "      <th>label</th>\n",
              "      <th>weekday</th>\n",
              "      <th>seconds</th>\n",
              "      <th>rush_hour</th>\n",
              "      <th>am_pm</th>\n",
              "    </tr>\n",
              "  </thead>\n",
              "  <tbody>\n",
              "    <tr>\n",
              "      <th>0</th>\n",
              "      <td>40</td>\n",
              "      <td>2402</td>\n",
              "      <td>11007</td>\n",
              "      <td>11</td>\n",
              "      <td>216.316667</td>\n",
              "      <td>8001</td>\n",
              "      <td>0</td>\n",
              "      <td>18013</td>\n",
              "      <td>0</td>\n",
              "      <td>0</td>\n",
              "    </tr>\n",
              "    <tr>\n",
              "      <th>1</th>\n",
              "      <td>53</td>\n",
              "      <td>110</td>\n",
              "      <td>2006</td>\n",
              "      <td>2</td>\n",
              "      <td>648.183333</td>\n",
              "      <td>9011</td>\n",
              "      <td>0</td>\n",
              "      <td>18054</td>\n",
              "      <td>0</td>\n",
              "      <td>0</td>\n",
              "    </tr>\n",
              "    <tr>\n",
              "      <th>2</th>\n",
              "      <td>26</td>\n",
              "      <td>110</td>\n",
              "      <td>2006</td>\n",
              "      <td>2</td>\n",
              "      <td>865.333333</td>\n",
              "      <td>7022</td>\n",
              "      <td>0</td>\n",
              "      <td>18055</td>\n",
              "      <td>0</td>\n",
              "      <td>0</td>\n",
              "    </tr>\n",
              "    <tr>\n",
              "      <th>3</th>\n",
              "      <td>3</td>\n",
              "      <td>110</td>\n",
              "      <td>2006</td>\n",
              "      <td>2</td>\n",
              "      <td>1048.233333</td>\n",
              "      <td>2022</td>\n",
              "      <td>0</td>\n",
              "      <td>18073</td>\n",
              "      <td>0</td>\n",
              "      <td>0</td>\n",
              "    </tr>\n",
              "    <tr>\n",
              "      <th>4</th>\n",
              "      <td>38</td>\n",
              "      <td>110</td>\n",
              "      <td>2006</td>\n",
              "      <td>2</td>\n",
              "      <td>965.600000</td>\n",
              "      <td>2017</td>\n",
              "      <td>0</td>\n",
              "      <td>18175</td>\n",
              "      <td>0</td>\n",
              "      <td>0</td>\n",
              "    </tr>\n",
              "  </tbody>\n",
              "</table>\n",
              "</div>"
            ],
            "text/plain": [
              "   ticket_type_nm  entrance_id  station_id  line_id  time_to_under  label  \\\n",
              "0              40         2402       11007       11     216.316667   8001   \n",
              "1              53          110        2006        2     648.183333   9011   \n",
              "2              26          110        2006        2     865.333333   7022   \n",
              "3               3          110        2006        2    1048.233333   2022   \n",
              "4              38          110        2006        2     965.600000   2017   \n",
              "\n",
              "   weekday  seconds  rush_hour  am_pm  \n",
              "0        0    18013          0      0  \n",
              "1        0    18054          0      0  \n",
              "2        0    18055          0      0  \n",
              "3        0    18073          0      0  \n",
              "4        0    18175          0      0  "
            ]
          },
          "execution_count": 7,
          "metadata": {},
          "output_type": "execute_result"
        }
      ],
      "source": [
        "data.head()"
      ]
    },
    {
      "cell_type": "markdown",
      "id": "bdcbde2e",
      "metadata": {
        "id": "bdcbde2e"
      },
      "source": [
        "# Regression "
      ]
    },
    {
      "cell_type": "markdown",
      "id": "356f2dcd",
      "metadata": {
        "id": "356f2dcd"
      },
      "source": [
        "## Dataset"
      ]
    },
    {
      "cell_type": "code",
      "execution_count": null,
      "id": "44a7082f",
      "metadata": {
        "id": "44a7082f"
      },
      "outputs": [],
      "source": [
        "from sklearn.model_selection import train_test_split\n",
        "\n",
        "\n",
        "X_train_rg, X_valid_rg, y_train_rg, y_valid_rg = train_test_split(np.array(data.drop(columns=['time_to_under', \n",
        "                                                                                              'label'])),\n",
        "                                                                  np.array(data['time_to_under']),\n",
        "                                                                  test_size=0.2,\n",
        "                                                                  shuffle=True,\n",
        "                                                                  random_state=seed)"
      ]
    },
    {
      "cell_type": "markdown",
      "id": "179da6d3",
      "metadata": {
        "id": "179da6d3"
      },
      "source": [
        "## Train"
      ]
    },
    {
      "cell_type": "code",
      "execution_count": null,
      "id": "f2e58302",
      "metadata": {
        "id": "f2e58302"
      },
      "outputs": [],
      "source": [
        "from sklearn.metrics import r2_score\n",
        "\n",
        "\n",
        "def score(model, X_valid, y_valid):\n",
        "    preds = model.predict(X_valid)\n",
        "    print('r2_score:', r2_score(y_valid, preds))"
      ]
    },
    {
      "cell_type": "code",
      "execution_count": null,
      "id": "b3d8f0dc",
      "metadata": {
        "id": "b3d8f0dc"
      },
      "outputs": [],
      "source": [
        "from lightgbm import LGBMRegressor\n",
        "from catboost import CatBoostRegressor\n",
        "from xgboost import XGBRegressor\n",
        "from sklearn.ensemble import VotingRegressor\n",
        "\n",
        "\n",
        "rm_1 = LGBMRegressor(random_state=seed)\n",
        "rm_2 = XGBRegressor(random_state=seed)\n",
        "rm_3 = CatBoostRegressor(random_seed=seed, task_type=\"GPU\")\n",
        "reg_model = VotingRegressor([('lgb', rm_1), ('xgb', rm_2), ('cbr', rm_3)])\n",
        "reg_model.fit(X_train_rg, y_train_rg)\n",
        "score(reg_model, X_valid_rg, y_valid_rg)"
      ]
    },
    {
      "cell_type": "markdown",
      "source": [
        "    r2_score: 0.5375358951455785"
      ],
      "metadata": {
        "id": "T8nCnd2bpcp-"
      },
      "id": "T8nCnd2bpcp-"
    },
    {
      "cell_type": "markdown",
      "id": "8fd99f06",
      "metadata": {
        "id": "8fd99f06"
      },
      "source": [
        "# Classification"
      ]
    },
    {
      "cell_type": "markdown",
      "id": "736bfdf3",
      "metadata": {
        "id": "736bfdf3"
      },
      "source": [
        "## Dataset"
      ]
    },
    {
      "cell_type": "code",
      "execution_count": null,
      "id": "26c5fb70",
      "metadata": {
        "id": "26c5fb70"
      },
      "outputs": [],
      "source": [
        "# from imblearn.over_sampling import SMOTE\n",
        "\n",
        "\n",
        "# smote = SMOTE(random_state=seed)\n",
        "# X_clf = data.drop(columns=['time_to_under', 'label'])\n",
        "# y_clf = data['label']\n",
        "# X_resample, y_resample = smote.fit_resample(X_clf, y_clf)\n",
        "# X_resample.reset_index(drop=True, inplace=True)\n",
        "# y_resample.reset_index(drop=True, inplace=True)\n",
        "# data_resample = pd.concat([X_resample, y_resample], axis=1)"
      ]
    },
    {
      "cell_type": "code",
      "execution_count": null,
      "id": "ff84f2ca",
      "metadata": {
        "scrolled": true,
        "id": "ff84f2ca"
      },
      "outputs": [],
      "source": [
        "#data_clf = data_resample.sample(1000000, random_state=seed)\n",
        "#data_clf.hist(bins = 50, figsize = (20,20))"
      ]
    },
    {
      "cell_type": "code",
      "execution_count": null,
      "id": "095667d2",
      "metadata": {
        "id": "095667d2"
      },
      "outputs": [],
      "source": [
        "from sklearn.model_selection import train_test_split\n",
        "\n",
        "\n",
        "X_train_clf, X_valid_clf, y_train_clf, y_valid_clf = train_test_split(np.array(data.drop(columns=['time_to_under', \n",
        "                                                                                                  'label'])),\n",
        "                                                                      np.array(data['label']),\n",
        "                                                                      test_size=0.2,\n",
        "                                                                      shuffle=True,\n",
        "                                                                      stratify=np.array(data['label']),\n",
        "                                                                      random_state=seed)"
      ]
    },
    {
      "cell_type": "markdown",
      "id": "d973462a",
      "metadata": {
        "id": "d973462a"
      },
      "source": [
        "## Train"
      ]
    },
    {
      "cell_type": "code",
      "execution_count": null,
      "id": "3316133c",
      "metadata": {
        "id": "3316133c"
      },
      "outputs": [],
      "source": [
        "from sklearn.metrics import classification_report\n",
        "from sklearn.metrics import recall_score, precision_score\n",
        "\n",
        "\n",
        "def score(model, X_valid, y_valid):\n",
        "    preds = model.predict(X_valid)\n",
        "    print(classification_report(y_valid, preds))\n",
        "    print('recall: ', recall_score(y_valid, preds, average=\"macro\", zero_division=0))"
      ]
    },
    {
      "cell_type": "code",
      "execution_count": null,
      "id": "9bda4345",
      "metadata": {
        "scrolled": true,
        "id": "9bda4345"
      },
      "outputs": [],
      "source": [
        "from catboost import CatBoostClassifier\n",
        "from xgboost import XGBClassifier\n",
        "from sklearn.ensemble import VotingClassifier\n",
        "\n",
        "\n",
        "#cm_1 = XGBClassifier(objective='multi:softmax', verbose=2, tree_method='gpu_hist')\n",
        "#cm_2 = CatBoostClassifier(loss_function='MultiClass', task_type=\"GPU\")\n",
        "#clf_model = VotingClassifier(estimators=[('lgb', cm_1), ('cbc', cm_2)], voting='soft')\n",
        "clf_model = CatBoostClassifier(iterations=1024, loss_function='MultiClass', task_type=\"GPU\", random_state=seed)\n",
        "clf_model.fit(X_train_clf, y_train_clf)\n",
        "score(clf_model, X_valid_clf, y_valid_clf)"
      ]
    },
    {
      "cell_type": "markdown",
      "source": [
        "    recall:  0.08138790187011342"
      ],
      "metadata": {
        "id": "2dKaZzh3pxL_"
      },
      "id": "2dKaZzh3pxL_"
    },
    {
      "cell_type": "markdown",
      "id": "8ffdd12c",
      "metadata": {
        "id": "8ffdd12c"
      },
      "source": [
        "## Save"
      ]
    },
    {
      "cell_type": "code",
      "execution_count": null,
      "id": "4b40b8f9",
      "metadata": {
        "id": "4b40b8f9"
      },
      "outputs": [],
      "source": [
        "clf_model.save_model('clf_model', format=\"cbm\")"
      ]
    },
    {
      "cell_type": "markdown",
      "id": "70a15a39",
      "metadata": {
        "id": "70a15a39"
      },
      "source": [
        "# Test"
      ]
    },
    {
      "cell_type": "code",
      "execution_count": null,
      "id": "ada2cc63",
      "metadata": {
        "id": "ada2cc63"
      },
      "outputs": [],
      "source": [
        "test_data = pd.read_csv('data/test.csv')\n",
        "\n",
        "ids = test_data['id']\n",
        "test_data['ticket_type_nm'] = label_encoder.fit_transform(test_data['ticket_type_nm'])\n",
        "\n",
        "test_data = test_data.drop(columns=['id', 'ticket_id', 'entrance_nm', 'station_nm', 'line_nm'])\n",
        "test_data['weekday'] = dttm_weekday(test_data['pass_dttm'])\n",
        "test_data['seconds'] = dttm_seconds(test_data['pass_dttm'])\n",
        "test_data['rush_hour'] = rush_hour(test_data['pass_dttm'])\n",
        "test_data['am_pm'] = dttm_am_pm(test_data['pass_dttm'])\n",
        "test_data = test_data.drop(columns=['pass_dttm'])"
      ]
    },
    {
      "cell_type": "code",
      "execution_count": null,
      "id": "159cf935",
      "metadata": {
        "id": "159cf935",
        "outputId": "9c2389e5-cfc4-41c7-d2c4-a24245cd9708"
      },
      "outputs": [
        {
          "data": {
            "text/html": [
              "<div>\n",
              "<style scoped>\n",
              "    .dataframe tbody tr th:only-of-type {\n",
              "        vertical-align: middle;\n",
              "    }\n",
              "\n",
              "    .dataframe tbody tr th {\n",
              "        vertical-align: top;\n",
              "    }\n",
              "\n",
              "    .dataframe thead th {\n",
              "        text-align: right;\n",
              "    }\n",
              "</style>\n",
              "<table border=\"1\" class=\"dataframe\">\n",
              "  <thead>\n",
              "    <tr style=\"text-align: right;\">\n",
              "      <th></th>\n",
              "      <th>id</th>\n",
              "      <th>time_to_under</th>\n",
              "      <th>label</th>\n",
              "    </tr>\n",
              "  </thead>\n",
              "  <tbody>\n",
              "    <tr>\n",
              "      <th>0</th>\n",
              "      <td>1091022</td>\n",
              "      <td>628.811748</td>\n",
              "      <td>9010</td>\n",
              "    </tr>\n",
              "    <tr>\n",
              "      <th>1</th>\n",
              "      <td>1091023</td>\n",
              "      <td>617.415113</td>\n",
              "      <td>1019</td>\n",
              "    </tr>\n",
              "    <tr>\n",
              "      <th>2</th>\n",
              "      <td>1091024</td>\n",
              "      <td>607.316509</td>\n",
              "      <td>2017</td>\n",
              "    </tr>\n",
              "    <tr>\n",
              "      <th>3</th>\n",
              "      <td>1091025</td>\n",
              "      <td>629.111442</td>\n",
              "      <td>9010</td>\n",
              "    </tr>\n",
              "    <tr>\n",
              "      <th>4</th>\n",
              "      <td>1091026</td>\n",
              "      <td>628.811748</td>\n",
              "      <td>9010</td>\n",
              "    </tr>\n",
              "    <tr>\n",
              "      <th>...</th>\n",
              "      <td>...</td>\n",
              "      <td>...</td>\n",
              "      <td>...</td>\n",
              "    </tr>\n",
              "    <tr>\n",
              "      <th>561885</th>\n",
              "      <td>1652907</td>\n",
              "      <td>534.374803</td>\n",
              "      <td>8008</td>\n",
              "    </tr>\n",
              "    <tr>\n",
              "      <th>561886</th>\n",
              "      <td>1652908</td>\n",
              "      <td>563.619449</td>\n",
              "      <td>7004</td>\n",
              "    </tr>\n",
              "    <tr>\n",
              "      <th>561887</th>\n",
              "      <td>1652909</td>\n",
              "      <td>513.640514</td>\n",
              "      <td>6002</td>\n",
              "    </tr>\n",
              "    <tr>\n",
              "      <th>561888</th>\n",
              "      <td>1652910</td>\n",
              "      <td>526.018571</td>\n",
              "      <td>9010</td>\n",
              "    </tr>\n",
              "    <tr>\n",
              "      <th>561889</th>\n",
              "      <td>1652911</td>\n",
              "      <td>526.103223</td>\n",
              "      <td>1019</td>\n",
              "    </tr>\n",
              "  </tbody>\n",
              "</table>\n",
              "<p>561890 rows × 3 columns</p>\n",
              "</div>"
            ],
            "text/plain": [
              "             id  time_to_under  label\n",
              "0       1091022     628.811748   9010\n",
              "1       1091023     617.415113   1019\n",
              "2       1091024     607.316509   2017\n",
              "3       1091025     629.111442   9010\n",
              "4       1091026     628.811748   9010\n",
              "...         ...            ...    ...\n",
              "561885  1652907     534.374803   8008\n",
              "561886  1652908     563.619449   7004\n",
              "561887  1652909     513.640514   6002\n",
              "561888  1652910     526.018571   9010\n",
              "561889  1652911     526.103223   1019\n",
              "\n",
              "[561890 rows x 3 columns]"
            ]
          },
          "execution_count": 18,
          "metadata": {},
          "output_type": "execute_result"
        }
      ],
      "source": [
        "import torch\n",
        "\n",
        "X_test = np.array(test_data)\n",
        "preds_time = torch.tensor(reg_model.predict(X_test)).reshape(-1)\n",
        "preds_label = torch.tensor(clf_model.predict(X_test)).reshape(-1)\n",
        "result = pd.DataFrame({'id': ids, 'time_to_under': preds_time, 'label': preds_label})\n",
        "result.to_csv('solution.csv', index=False)\n",
        "result"
      ]
    }
  ],
  "metadata": {
    "kernelspec": {
      "display_name": "Python 3 (ipykernel)",
      "language": "python",
      "name": "python3"
    },
    "language_info": {
      "codemirror_mode": {
        "name": "ipython",
        "version": 3
      },
      "file_extension": ".py",
      "mimetype": "text/x-python",
      "name": "python",
      "nbconvert_exporter": "python",
      "pygments_lexer": "ipython3",
      "version": "3.9.15"
    },
    "colab": {
      "provenance": [],
      "toc_visible": true
    }
  },
  "nbformat": 4,
  "nbformat_minor": 5
}