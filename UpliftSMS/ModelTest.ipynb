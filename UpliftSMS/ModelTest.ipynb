{
 "cells": [
  {
   "cell_type": "code",
   "execution_count": 1,
   "id": "839ca828",
   "metadata": {},
   "outputs": [],
   "source": [
    "import pandas as pd\n",
    "import numpy as np\n",
    "import catboost\n",
    "import pickle\n",
    "from sklift.models import ClassTransformation"
   ]
  },
  {
   "cell_type": "markdown",
   "id": "684fb88f",
   "metadata": {},
   "source": [
    "# Data"
   ]
  },
  {
   "cell_type": "code",
   "execution_count": 11,
   "id": "39a33618",
   "metadata": {},
   "outputs": [
    {
     "data": {
      "text/html": [
       "<div>\n",
       "<style scoped>\n",
       "    .dataframe tbody tr th:only-of-type {\n",
       "        vertical-align: middle;\n",
       "    }\n",
       "\n",
       "    .dataframe tbody tr th {\n",
       "        vertical-align: top;\n",
       "    }\n",
       "\n",
       "    .dataframe thead th {\n",
       "        text-align: right;\n",
       "    }\n",
       "</style>\n",
       "<table border=\"1\" class=\"dataframe\">\n",
       "  <thead>\n",
       "    <tr style=\"text-align: right;\">\n",
       "      <th></th>\n",
       "      <th>client_id</th>\n",
       "      <th>age</th>\n",
       "      <th>gender</th>\n",
       "      <th>first_issue_date</th>\n",
       "      <th>first_redeem_date</th>\n",
       "      <th>issue_redeem_delay</th>\n",
       "      <th>expresS</th>\n",
       "      <th>mean_sum</th>\n",
       "      <th>receipt_cnt</th>\n",
       "    </tr>\n",
       "  </thead>\n",
       "  <tbody>\n",
       "    <tr>\n",
       "      <th>0</th>\n",
       "      <td>a9a604ed6e</td>\n",
       "      <td>36</td>\n",
       "      <td>F</td>\n",
       "      <td>1536860201</td>\n",
       "      <td>NaN</td>\n",
       "      <td>NaN</td>\n",
       "      <td>0.0</td>\n",
       "      <td>629.506000</td>\n",
       "      <td>4</td>\n",
       "    </tr>\n",
       "    <tr>\n",
       "      <th>1</th>\n",
       "      <td>ebd7360016</td>\n",
       "      <td>63</td>\n",
       "      <td>F</td>\n",
       "      <td>1499101932</td>\n",
       "      <td>1.504283e+09</td>\n",
       "      <td>5180580.0</td>\n",
       "      <td>0.0</td>\n",
       "      <td>183.244194</td>\n",
       "      <td>0</td>\n",
       "    </tr>\n",
       "    <tr>\n",
       "      <th>2</th>\n",
       "      <td>908cd9b8e8</td>\n",
       "      <td>49</td>\n",
       "      <td>F</td>\n",
       "      <td>1522429280</td>\n",
       "      <td>1.531502e+09</td>\n",
       "      <td>9072272.0</td>\n",
       "      <td>0.0</td>\n",
       "      <td>364.296471</td>\n",
       "      <td>7</td>\n",
       "    </tr>\n",
       "    <tr>\n",
       "      <th>3</th>\n",
       "      <td>dceb8ce861</td>\n",
       "      <td>46</td>\n",
       "      <td>U</td>\n",
       "      <td>1507309602</td>\n",
       "      <td>1.534013e+09</td>\n",
       "      <td>26703436.0</td>\n",
       "      <td>0.0</td>\n",
       "      <td>1377.543333</td>\n",
       "      <td>6</td>\n",
       "    </tr>\n",
       "    <tr>\n",
       "      <th>4</th>\n",
       "      <td>f4f0ac6b06</td>\n",
       "      <td>119</td>\n",
       "      <td>U</td>\n",
       "      <td>1530135581</td>\n",
       "      <td>1.550262e+09</td>\n",
       "      <td>20126096.0</td>\n",
       "      <td>0.0</td>\n",
       "      <td>746.666667</td>\n",
       "      <td>9</td>\n",
       "    </tr>\n",
       "  </tbody>\n",
       "</table>\n",
       "</div>"
      ],
      "text/plain": [
       "    client_id  age gender  first_issue_date  first_redeem_date  \\\n",
       "0  a9a604ed6e   36      F        1536860201                NaN   \n",
       "1  ebd7360016   63      F        1499101932       1.504283e+09   \n",
       "2  908cd9b8e8   49      F        1522429280       1.531502e+09   \n",
       "3  dceb8ce861   46      U        1507309602       1.534013e+09   \n",
       "4  f4f0ac6b06  119      U        1530135581       1.550262e+09   \n",
       "\n",
       "   issue_redeem_delay  expresS     mean_sum  receipt_cnt  \n",
       "0                 NaN      0.0   629.506000            4  \n",
       "1           5180580.0      0.0   183.244194            0  \n",
       "2           9072272.0      0.0   364.296471            7  \n",
       "3          26703436.0      0.0  1377.543333            6  \n",
       "4          20126096.0      0.0   746.666667            9  "
      ]
     },
     "execution_count": 11,
     "metadata": {},
     "output_type": "execute_result"
    }
   ],
   "source": [
    "data = pd.read_csv('artifacts/data_test.csv')\n",
    "data = data.drop(columns=['card_own', 'from_redeem', 'trademark', 'popular', 'regularR', 'regularS', 'expresR',\n",
    "                          'n_purchases', 'alcohol', 'netto', 'frequency', 'last_p', 'popular_store', 'popular_brand',\n",
    "                          'popular_lvl3', 'popular_vr', 'trn_red', 'trn_iss', 'popular_cnt', 'receipt',\n",
    "                          'full_sum', 'max_sum', 'min_sum'])\n",
    "data.head()"
   ]
  },
  {
   "cell_type": "code",
   "execution_count": 12,
   "id": "e4e9c6a1",
   "metadata": {},
   "outputs": [],
   "source": [
    "idx = np.array(data['client_id'])\n",
    "X_test = data.drop(columns=['client_id'])"
   ]
  },
  {
   "cell_type": "markdown",
   "id": "34fb464a",
   "metadata": {},
   "source": [
    "# Predict"
   ]
  },
  {
   "cell_type": "code",
   "execution_count": 16,
   "id": "304b9f03",
   "metadata": {},
   "outputs": [],
   "source": [
    "with open('artifacts/model.ml', 'rb') as file:\n",
    "    model = pickle.load(file)\n",
    "uplift = model.predict(X_test)"
   ]
  },
  {
   "cell_type": "markdown",
   "id": "c065758b",
   "metadata": {},
   "source": [
    "# Result"
   ]
  },
  {
   "cell_type": "code",
   "execution_count": 17,
   "id": "1c21a459",
   "metadata": {},
   "outputs": [
    {
     "data": {
      "text/html": [
       "<div>\n",
       "<style scoped>\n",
       "    .dataframe tbody tr th:only-of-type {\n",
       "        vertical-align: middle;\n",
       "    }\n",
       "\n",
       "    .dataframe tbody tr th {\n",
       "        vertical-align: top;\n",
       "    }\n",
       "\n",
       "    .dataframe thead th {\n",
       "        text-align: right;\n",
       "    }\n",
       "</style>\n",
       "<table border=\"1\" class=\"dataframe\">\n",
       "  <thead>\n",
       "    <tr style=\"text-align: right;\">\n",
       "      <th></th>\n",
       "      <th>client_id</th>\n",
       "      <th>pred</th>\n",
       "    </tr>\n",
       "  </thead>\n",
       "  <tbody>\n",
       "    <tr>\n",
       "      <th>0</th>\n",
       "      <td>a9a604ed6e</td>\n",
       "      <td>-0.000490</td>\n",
       "    </tr>\n",
       "    <tr>\n",
       "      <th>1</th>\n",
       "      <td>ebd7360016</td>\n",
       "      <td>0.096849</td>\n",
       "    </tr>\n",
       "    <tr>\n",
       "      <th>2</th>\n",
       "      <td>908cd9b8e8</td>\n",
       "      <td>0.035311</td>\n",
       "    </tr>\n",
       "    <tr>\n",
       "      <th>3</th>\n",
       "      <td>dceb8ce861</td>\n",
       "      <td>0.024031</td>\n",
       "    </tr>\n",
       "    <tr>\n",
       "      <th>4</th>\n",
       "      <td>f4f0ac6b06</td>\n",
       "      <td>0.103113</td>\n",
       "    </tr>\n",
       "  </tbody>\n",
       "</table>\n",
       "</div>"
      ],
      "text/plain": [
       "    client_id      pred\n",
       "0  a9a604ed6e -0.000490\n",
       "1  ebd7360016  0.096849\n",
       "2  908cd9b8e8  0.035311\n",
       "3  dceb8ce861  0.024031\n",
       "4  f4f0ac6b06  0.103113"
      ]
     },
     "execution_count": 17,
     "metadata": {},
     "output_type": "execute_result"
    }
   ],
   "source": [
    "solution = pd.DataFrame({'client_id': idx, 'pred': uplift})\n",
    "solution.to_csv('artifacts/submission.csv', index=False)\n",
    "solution.head()"
   ]
  }
 ],
 "metadata": {
  "kernelspec": {
   "display_name": "Python 3 (ipykernel)",
   "language": "python",
   "name": "python3"
  },
  "language_info": {
   "codemirror_mode": {
    "name": "ipython",
    "version": 3
   },
   "file_extension": ".py",
   "mimetype": "text/x-python",
   "name": "python",
   "nbconvert_exporter": "python",
   "pygments_lexer": "ipython3",
   "version": "3.9.15"
  },
  "toc": {
   "base_numbering": 1,
   "nav_menu": {},
   "number_sections": true,
   "sideBar": true,
   "skip_h1_title": false,
   "title_cell": "Table of Contents",
   "title_sidebar": "Contents",
   "toc_cell": false,
   "toc_position": {},
   "toc_section_display": true,
   "toc_window_display": false
  }
 },
 "nbformat": 4,
 "nbformat_minor": 5
}
