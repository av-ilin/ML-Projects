{
 "cells": [
  {
   "cell_type": "code",
   "execution_count": 1,
   "id": "01f6216c",
   "metadata": {},
   "outputs": [],
   "source": [
    "import pandas as pd\n",
    "import numpy as np"
   ]
  },
  {
   "cell_type": "code",
   "execution_count": 2,
   "id": "8a724b2c",
   "metadata": {},
   "outputs": [
    {
     "data": {
      "text/html": [
       "<div>\n",
       "<style scoped>\n",
       "    .dataframe tbody tr th:only-of-type {\n",
       "        vertical-align: middle;\n",
       "    }\n",
       "\n",
       "    .dataframe tbody tr th {\n",
       "        vertical-align: top;\n",
       "    }\n",
       "\n",
       "    .dataframe thead th {\n",
       "        text-align: right;\n",
       "    }\n",
       "</style>\n",
       "<table border=\"1\" class=\"dataframe\">\n",
       "  <thead>\n",
       "    <tr style=\"text-align: right;\">\n",
       "      <th></th>\n",
       "      <th>client_id</th>\n",
       "      <th>treatment_flg</th>\n",
       "      <th>purchased</th>\n",
       "    </tr>\n",
       "  </thead>\n",
       "  <tbody>\n",
       "    <tr>\n",
       "      <th>0</th>\n",
       "      <td>ad6561e2d8</td>\n",
       "      <td>1</td>\n",
       "      <td>1</td>\n",
       "    </tr>\n",
       "    <tr>\n",
       "      <th>1</th>\n",
       "      <td>7c1ccbf93f</td>\n",
       "      <td>1</td>\n",
       "      <td>1</td>\n",
       "    </tr>\n",
       "    <tr>\n",
       "      <th>2</th>\n",
       "      <td>b58fadcab6</td>\n",
       "      <td>1</td>\n",
       "      <td>1</td>\n",
       "    </tr>\n",
       "    <tr>\n",
       "      <th>3</th>\n",
       "      <td>e99e6fabb9</td>\n",
       "      <td>0</td>\n",
       "      <td>0</td>\n",
       "    </tr>\n",
       "    <tr>\n",
       "      <th>4</th>\n",
       "      <td>27fb6f8520</td>\n",
       "      <td>1</td>\n",
       "      <td>1</td>\n",
       "    </tr>\n",
       "  </tbody>\n",
       "</table>\n",
       "</div>"
      ],
      "text/plain": [
       "    client_id  treatment_flg  purchased\n",
       "0  ad6561e2d8              1          1\n",
       "1  7c1ccbf93f              1          1\n",
       "2  b58fadcab6              1          1\n",
       "3  e99e6fabb9              0          0\n",
       "4  27fb6f8520              1          1"
      ]
     },
     "execution_count": 2,
     "metadata": {},
     "output_type": "execute_result"
    }
   ],
   "source": [
    "data = pd.read_csv('data/train.csv')\n",
    "data.head()"
   ]
  },
  {
   "cell_type": "code",
   "execution_count": 3,
   "id": "0e0a5ae7",
   "metadata": {},
   "outputs": [
    {
     "data": {
      "text/html": [
       "<div>\n",
       "<style scoped>\n",
       "    .dataframe tbody tr th:only-of-type {\n",
       "        vertical-align: middle;\n",
       "    }\n",
       "\n",
       "    .dataframe tbody tr th {\n",
       "        vertical-align: top;\n",
       "    }\n",
       "\n",
       "    .dataframe thead th {\n",
       "        text-align: right;\n",
       "    }\n",
       "</style>\n",
       "<table border=\"1\" class=\"dataframe\">\n",
       "  <thead>\n",
       "    <tr style=\"text-align: right;\">\n",
       "      <th></th>\n",
       "      <th>client_id</th>\n",
       "      <th>first_issue_date</th>\n",
       "      <th>first_redeem_date</th>\n",
       "      <th>age</th>\n",
       "      <th>gender</th>\n",
       "    </tr>\n",
       "  </thead>\n",
       "  <tbody>\n",
       "    <tr>\n",
       "      <th>0</th>\n",
       "      <td>000012768d</td>\n",
       "      <td>2017-08-05 15:40:48</td>\n",
       "      <td>2018-01-04 19:30:07</td>\n",
       "      <td>45</td>\n",
       "      <td>U</td>\n",
       "    </tr>\n",
       "    <tr>\n",
       "      <th>1</th>\n",
       "      <td>000036f903</td>\n",
       "      <td>2017-04-10 13:54:23</td>\n",
       "      <td>2017-04-23 12:37:56</td>\n",
       "      <td>72</td>\n",
       "      <td>F</td>\n",
       "    </tr>\n",
       "    <tr>\n",
       "      <th>2</th>\n",
       "      <td>00010925a5</td>\n",
       "      <td>2018-07-24 16:21:29</td>\n",
       "      <td>2018-09-14 16:12:49</td>\n",
       "      <td>83</td>\n",
       "      <td>U</td>\n",
       "    </tr>\n",
       "    <tr>\n",
       "      <th>3</th>\n",
       "      <td>0001f552b0</td>\n",
       "      <td>2017-06-30 19:20:38</td>\n",
       "      <td>2018-08-28 12:59:45</td>\n",
       "      <td>33</td>\n",
       "      <td>F</td>\n",
       "    </tr>\n",
       "    <tr>\n",
       "      <th>4</th>\n",
       "      <td>00020e7b18</td>\n",
       "      <td>2017-11-27 11:41:45</td>\n",
       "      <td>2018-01-10 17:50:05</td>\n",
       "      <td>73</td>\n",
       "      <td>U</td>\n",
       "    </tr>\n",
       "  </tbody>\n",
       "</table>\n",
       "</div>"
      ],
      "text/plain": [
       "    client_id     first_issue_date    first_redeem_date  age gender\n",
       "0  000012768d  2017-08-05 15:40:48  2018-01-04 19:30:07   45      U\n",
       "1  000036f903  2017-04-10 13:54:23  2017-04-23 12:37:56   72      F\n",
       "2  00010925a5  2018-07-24 16:21:29  2018-09-14 16:12:49   83      U\n",
       "3  0001f552b0  2017-06-30 19:20:38  2018-08-28 12:59:45   33      F\n",
       "4  00020e7b18  2017-11-27 11:41:45  2018-01-10 17:50:05   73      U"
      ]
     },
     "execution_count": 3,
     "metadata": {},
     "output_type": "execute_result"
    }
   ],
   "source": [
    "clients = pd.read_csv('data/clients.csv').drop(columns=['client_id.1'])\n",
    "clients.head()"
   ]
  },
  {
   "cell_type": "code",
   "execution_count": 4,
   "id": "da87f770",
   "metadata": {},
   "outputs": [
    {
     "data": {
      "text/html": [
       "<div>\n",
       "<style scoped>\n",
       "    .dataframe tbody tr th:only-of-type {\n",
       "        vertical-align: middle;\n",
       "    }\n",
       "\n",
       "    .dataframe tbody tr th {\n",
       "        vertical-align: top;\n",
       "    }\n",
       "\n",
       "    .dataframe thead th {\n",
       "        text-align: right;\n",
       "    }\n",
       "</style>\n",
       "<table border=\"1\" class=\"dataframe\">\n",
       "  <thead>\n",
       "    <tr style=\"text-align: right;\">\n",
       "      <th></th>\n",
       "      <th>client_id</th>\n",
       "      <th>transaction_id</th>\n",
       "      <th>transaction_datetime</th>\n",
       "      <th>regular_points_received</th>\n",
       "      <th>express_points_received</th>\n",
       "      <th>regular_points_spent</th>\n",
       "      <th>express_points_spent</th>\n",
       "      <th>purchase_sum</th>\n",
       "      <th>store_id</th>\n",
       "      <th>product_id</th>\n",
       "      <th>product_quantity</th>\n",
       "      <th>trn_sum_from_iss</th>\n",
       "      <th>trn_sum_from_red</th>\n",
       "    </tr>\n",
       "  </thead>\n",
       "  <tbody>\n",
       "    <tr>\n",
       "      <th>0</th>\n",
       "      <td>000012768d</td>\n",
       "      <td>7e3e2e3984</td>\n",
       "      <td>2018-12-01 07:12:45</td>\n",
       "      <td>10.0</td>\n",
       "      <td>0.0</td>\n",
       "      <td>0.0</td>\n",
       "      <td>0.0</td>\n",
       "      <td>1007.0</td>\n",
       "      <td>54a4a11a29</td>\n",
       "      <td>9a80204f78</td>\n",
       "      <td>2.0</td>\n",
       "      <td>80.0</td>\n",
       "      <td>NaN</td>\n",
       "    </tr>\n",
       "    <tr>\n",
       "      <th>1</th>\n",
       "      <td>000012768d</td>\n",
       "      <td>7e3e2e3984</td>\n",
       "      <td>2018-12-01 07:12:45</td>\n",
       "      <td>10.0</td>\n",
       "      <td>0.0</td>\n",
       "      <td>0.0</td>\n",
       "      <td>0.0</td>\n",
       "      <td>1007.0</td>\n",
       "      <td>54a4a11a29</td>\n",
       "      <td>da89ebd374</td>\n",
       "      <td>1.0</td>\n",
       "      <td>65.0</td>\n",
       "      <td>NaN</td>\n",
       "    </tr>\n",
       "    <tr>\n",
       "      <th>2</th>\n",
       "      <td>000012768d</td>\n",
       "      <td>7e3e2e3984</td>\n",
       "      <td>2018-12-01 07:12:45</td>\n",
       "      <td>10.0</td>\n",
       "      <td>0.0</td>\n",
       "      <td>0.0</td>\n",
       "      <td>0.0</td>\n",
       "      <td>1007.0</td>\n",
       "      <td>54a4a11a29</td>\n",
       "      <td>0a95e1151d</td>\n",
       "      <td>1.0</td>\n",
       "      <td>24.0</td>\n",
       "      <td>NaN</td>\n",
       "    </tr>\n",
       "    <tr>\n",
       "      <th>3</th>\n",
       "      <td>000012768d</td>\n",
       "      <td>7e3e2e3984</td>\n",
       "      <td>2018-12-01 07:12:45</td>\n",
       "      <td>10.0</td>\n",
       "      <td>0.0</td>\n",
       "      <td>0.0</td>\n",
       "      <td>0.0</td>\n",
       "      <td>1007.0</td>\n",
       "      <td>54a4a11a29</td>\n",
       "      <td>4055b15e4a</td>\n",
       "      <td>2.0</td>\n",
       "      <td>50.0</td>\n",
       "      <td>NaN</td>\n",
       "    </tr>\n",
       "    <tr>\n",
       "      <th>4</th>\n",
       "      <td>000012768d</td>\n",
       "      <td>7e3e2e3984</td>\n",
       "      <td>2018-12-01 07:12:45</td>\n",
       "      <td>10.0</td>\n",
       "      <td>0.0</td>\n",
       "      <td>0.0</td>\n",
       "      <td>0.0</td>\n",
       "      <td>1007.0</td>\n",
       "      <td>54a4a11a29</td>\n",
       "      <td>a685f1916b</td>\n",
       "      <td>1.0</td>\n",
       "      <td>22.0</td>\n",
       "      <td>NaN</td>\n",
       "    </tr>\n",
       "  </tbody>\n",
       "</table>\n",
       "</div>"
      ],
      "text/plain": [
       "    client_id transaction_id transaction_datetime  regular_points_received  \\\n",
       "0  000012768d     7e3e2e3984  2018-12-01 07:12:45                     10.0   \n",
       "1  000012768d     7e3e2e3984  2018-12-01 07:12:45                     10.0   \n",
       "2  000012768d     7e3e2e3984  2018-12-01 07:12:45                     10.0   \n",
       "3  000012768d     7e3e2e3984  2018-12-01 07:12:45                     10.0   \n",
       "4  000012768d     7e3e2e3984  2018-12-01 07:12:45                     10.0   \n",
       "\n",
       "   express_points_received  regular_points_spent  express_points_spent  \\\n",
       "0                      0.0                   0.0                   0.0   \n",
       "1                      0.0                   0.0                   0.0   \n",
       "2                      0.0                   0.0                   0.0   \n",
       "3                      0.0                   0.0                   0.0   \n",
       "4                      0.0                   0.0                   0.0   \n",
       "\n",
       "   purchase_sum    store_id  product_id  product_quantity  trn_sum_from_iss  \\\n",
       "0        1007.0  54a4a11a29  9a80204f78               2.0              80.0   \n",
       "1        1007.0  54a4a11a29  da89ebd374               1.0              65.0   \n",
       "2        1007.0  54a4a11a29  0a95e1151d               1.0              24.0   \n",
       "3        1007.0  54a4a11a29  4055b15e4a               2.0              50.0   \n",
       "4        1007.0  54a4a11a29  a685f1916b               1.0              22.0   \n",
       "\n",
       "   trn_sum_from_red  \n",
       "0               NaN  \n",
       "1               NaN  \n",
       "2               NaN  \n",
       "3               NaN  \n",
       "4               NaN  "
      ]
     },
     "execution_count": 4,
     "metadata": {},
     "output_type": "execute_result"
    }
   ],
   "source": [
    "purchase = pd.read_csv('data/train_purch_hist.csv')\n",
    "purchase.head()"
   ]
  },
  {
   "cell_type": "code",
   "execution_count": 5,
   "id": "ab4afac7",
   "metadata": {},
   "outputs": [
    {
     "data": {
      "text/html": [
       "<div>\n",
       "<style scoped>\n",
       "    .dataframe tbody tr th:only-of-type {\n",
       "        vertical-align: middle;\n",
       "    }\n",
       "\n",
       "    .dataframe tbody tr th {\n",
       "        vertical-align: top;\n",
       "    }\n",
       "\n",
       "    .dataframe thead th {\n",
       "        text-align: right;\n",
       "    }\n",
       "</style>\n",
       "<table border=\"1\" class=\"dataframe\">\n",
       "  <thead>\n",
       "    <tr style=\"text-align: right;\">\n",
       "      <th></th>\n",
       "      <th>product_id</th>\n",
       "      <th>level_1</th>\n",
       "      <th>level_2</th>\n",
       "      <th>level_3</th>\n",
       "      <th>level_4</th>\n",
       "      <th>segment_id</th>\n",
       "      <th>brand_id</th>\n",
       "      <th>vendor_id</th>\n",
       "      <th>netto</th>\n",
       "      <th>is_own_trademark</th>\n",
       "      <th>is_alcohol</th>\n",
       "    </tr>\n",
       "  </thead>\n",
       "  <tbody>\n",
       "    <tr>\n",
       "      <th>0</th>\n",
       "      <td>0003020d3c</td>\n",
       "      <td>c3d3a8e8c6</td>\n",
       "      <td>c2a3ea8d5e</td>\n",
       "      <td>b7cda0ec0c</td>\n",
       "      <td>6376f2a852</td>\n",
       "      <td>123.0</td>\n",
       "      <td>394a54a7c1</td>\n",
       "      <td>9eaff48661</td>\n",
       "      <td>0.400</td>\n",
       "      <td>0</td>\n",
       "      <td>0</td>\n",
       "    </tr>\n",
       "    <tr>\n",
       "      <th>1</th>\n",
       "      <td>0003870676</td>\n",
       "      <td>e344ab2e71</td>\n",
       "      <td>52f13dac0c</td>\n",
       "      <td>d3cfe81323</td>\n",
       "      <td>6dc544533f</td>\n",
       "      <td>105.0</td>\n",
       "      <td>acd3dd483f</td>\n",
       "      <td>10486c3cf0</td>\n",
       "      <td>0.680</td>\n",
       "      <td>0</td>\n",
       "      <td>0</td>\n",
       "    </tr>\n",
       "    <tr>\n",
       "      <th>2</th>\n",
       "      <td>0003ceaf69</td>\n",
       "      <td>c3d3a8e8c6</td>\n",
       "      <td>f2333c90fb</td>\n",
       "      <td>419bc5b424</td>\n",
       "      <td>f6148afbc0</td>\n",
       "      <td>271.0</td>\n",
       "      <td>f597581079</td>\n",
       "      <td>764e660dda</td>\n",
       "      <td>0.500</td>\n",
       "      <td>0</td>\n",
       "      <td>0</td>\n",
       "    </tr>\n",
       "    <tr>\n",
       "      <th>3</th>\n",
       "      <td>000701e093</td>\n",
       "      <td>ec62ce61e3</td>\n",
       "      <td>4202626fcb</td>\n",
       "      <td>88a515c084</td>\n",
       "      <td>48cf3d488f</td>\n",
       "      <td>172.0</td>\n",
       "      <td>54a90fe769</td>\n",
       "      <td>03c2d70bad</td>\n",
       "      <td>0.112</td>\n",
       "      <td>0</td>\n",
       "      <td>0</td>\n",
       "    </tr>\n",
       "    <tr>\n",
       "      <th>4</th>\n",
       "      <td>0007149564</td>\n",
       "      <td>e344ab2e71</td>\n",
       "      <td>52f13dac0c</td>\n",
       "      <td>d3cfe81323</td>\n",
       "      <td>6dc544533f</td>\n",
       "      <td>105.0</td>\n",
       "      <td>63417fe1f3</td>\n",
       "      <td>f329130198</td>\n",
       "      <td>0.600</td>\n",
       "      <td>0</td>\n",
       "      <td>0</td>\n",
       "    </tr>\n",
       "  </tbody>\n",
       "</table>\n",
       "</div>"
      ],
      "text/plain": [
       "   product_id     level_1     level_2     level_3     level_4  segment_id  \\\n",
       "0  0003020d3c  c3d3a8e8c6  c2a3ea8d5e  b7cda0ec0c  6376f2a852       123.0   \n",
       "1  0003870676  e344ab2e71  52f13dac0c  d3cfe81323  6dc544533f       105.0   \n",
       "2  0003ceaf69  c3d3a8e8c6  f2333c90fb  419bc5b424  f6148afbc0       271.0   \n",
       "3  000701e093  ec62ce61e3  4202626fcb  88a515c084  48cf3d488f       172.0   \n",
       "4  0007149564  e344ab2e71  52f13dac0c  d3cfe81323  6dc544533f       105.0   \n",
       "\n",
       "     brand_id   vendor_id  netto  is_own_trademark  is_alcohol  \n",
       "0  394a54a7c1  9eaff48661  0.400                 0           0  \n",
       "1  acd3dd483f  10486c3cf0  0.680                 0           0  \n",
       "2  f597581079  764e660dda  0.500                 0           0  \n",
       "3  54a90fe769  03c2d70bad  0.112                 0           0  \n",
       "4  63417fe1f3  f329130198  0.600                 0           0  "
      ]
     },
     "execution_count": 5,
     "metadata": {},
     "output_type": "execute_result"
    }
   ],
   "source": [
    "products = pd.read_csv('data/products.csv')\n",
    "products.head()"
   ]
  },
  {
   "cell_type": "markdown",
   "id": "765814b4",
   "metadata": {},
   "source": [
    "# Каково значение аплифта на всем трейне?"
   ]
  },
  {
   "cell_type": "code",
   "execution_count": 6,
   "id": "f20881fd",
   "metadata": {},
   "outputs": [
    {
     "data": {
      "text/plain": [
       "0.03354516795221374"
      ]
     },
     "execution_count": 6,
     "metadata": {},
     "output_type": "execute_result"
    }
   ],
   "source": [
    "uplift = data.loc[data['treatment_flg']==1, 'purchased'].mean() - data.loc[data['treatment_flg']==0, 'purchased'].mean()\n",
    "uplift"
   ]
  },
  {
   "cell_type": "markdown",
   "id": "4a6e545c",
   "metadata": {},
   "source": [
    "# Выберите правильные утверждения:"
   ]
  },
  {
   "cell_type": "markdown",
   "id": "165331a9",
   "metadata": {},
   "source": [
    "Последняя покупка в train_purch была совершена в марте 2018 года. (False)"
   ]
  },
  {
   "cell_type": "code",
   "execution_count": 7,
   "id": "7153ddbe",
   "metadata": {},
   "outputs": [
    {
     "data": {
      "text/plain": [
       "datetime.date(2019, 3, 18)"
      ]
     },
     "execution_count": 7,
     "metadata": {},
     "output_type": "execute_result"
    }
   ],
   "source": [
    "from datetime import date\n",
    "\n",
    "\n",
    "dates = purchase['transaction_datetime'].apply(lambda x: date.fromisoformat(x.split()[0])).to_numpy()\n",
    "dates.max()"
   ]
  },
  {
   "cell_type": "markdown",
   "id": "9dec421c",
   "metadata": {},
   "source": [
    "Аплифт в группе людей, возраст которых больше 50 лет, примерно в два раза выше чем у остальных людей.(True)"
   ]
  },
  {
   "cell_type": "code",
   "execution_count": 8,
   "id": "0517ac0d",
   "metadata": {},
   "outputs": [
    {
     "data": {
      "text/plain": [
       "(0.0506140212921522, 0.021301489366581716)"
      ]
     },
     "execution_count": 8,
     "metadata": {},
     "output_type": "execute_result"
    }
   ],
   "source": [
    "df = data.merge(clients[['client_id', 'age']], on='client_id', how='left')\n",
    "df1 = df[df.age > 50]\n",
    "df2 = df[df.age <= 50]\n",
    "uplift1 = df1.loc[df1['treatment_flg']==1, 'purchased'].mean() - df1.loc[df1['treatment_flg']==0, 'purchased'].mean()\n",
    "uplift2 = df2.loc[df2['treatment_flg']==1, 'purchased'].mean() - df2.loc[df2['treatment_flg']==0, 'purchased'].mean()\n",
    "uplift1, uplift2"
   ]
  },
  {
   "cell_type": "markdown",
   "id": "c1b1ad9b",
   "metadata": {},
   "source": [
    "В трейне мужчин больше чем женщин. (False)"
   ]
  },
  {
   "cell_type": "code",
   "execution_count": 9,
   "id": "e4deaa50",
   "metadata": {},
   "outputs": [
    {
     "data": {
      "text/plain": [
       "False"
      ]
     },
     "execution_count": 9,
     "metadata": {},
     "output_type": "execute_result"
    }
   ],
   "source": [
    "df = data.merge(clients[['client_id', 'gender']], on='client_id', how='left')\n",
    "df[df.gender=='M'].count()[0] > df[df.gender=='F'].count()[0]"
   ]
  },
  {
   "cell_type": "markdown",
   "id": "c0204b77",
   "metadata": {},
   "source": [
    "Медианный возраст всех людей в трейне равен 39 годам.  "
   ]
  },
  {
   "cell_type": "code",
   "execution_count": 10,
   "id": "b63dddcc",
   "metadata": {},
   "outputs": [
    {
     "data": {
      "text/plain": [
       "45.0"
      ]
     },
     "execution_count": 10,
     "metadata": {},
     "output_type": "execute_result"
    }
   ],
   "source": [
    "df = data.merge(clients[['client_id', 'age']], on='client_id', how='left')\n",
    "df.age.median()"
   ]
  },
  {
   "cell_type": "markdown",
   "id": "8cfff231",
   "metadata": {},
   "source": [
    "# На какую максимальную сумму в train_purch была совершена покупка? (округлить до целого)"
   ]
  },
  {
   "cell_type": "code",
   "execution_count": 11,
   "id": "b21dfb2f",
   "metadata": {},
   "outputs": [
    {
     "data": {
      "text/plain": [
       "29611.48"
      ]
     },
     "execution_count": 11,
     "metadata": {},
     "output_type": "execute_result"
    }
   ],
   "source": [
    "purchase.purchase_sum.max()"
   ]
  },
  {
   "cell_type": "markdown",
   "id": "318793b1",
   "metadata": {},
   "source": [
    "# Каково мат. ожидание кол-ва посетителей во всех магазин в train_purch в день?"
   ]
  },
  {
   "cell_type": "code",
   "execution_count": 12,
   "id": "0eefab3c",
   "metadata": {},
   "outputs": [
    {
     "data": {
      "text/plain": [
       "client_id    23855.855932\n",
       "dtype: float64"
      ]
     },
     "execution_count": 12,
     "metadata": {},
     "output_type": "execute_result"
    }
   ],
   "source": [
    "df = purchase[['client_id', 'transaction_datetime']].drop_duplicates()\n",
    "df.transaction_datetime = df.transaction_datetime.apply(lambda date: date.split()[0])\n",
    "df.groupby(by=['transaction_datetime']).count().mean()"
   ]
  },
  {
   "cell_type": "code",
   "execution_count": 13,
   "id": "96ce36a6",
   "metadata": {},
   "outputs": [
    {
     "data": {
      "text/plain": [
       "23855.85593220339"
      ]
     },
     "execution_count": 13,
     "metadata": {},
     "output_type": "execute_result"
    }
   ],
   "source": [
    "tmp = df.groupby(by=['transaction_datetime']).count()\n",
    "x, p = np.unique(tmp.client_id, return_counts=True)\n",
    "p = p / p.sum()\n",
    "(x * p).sum()"
   ]
  },
  {
   "cell_type": "markdown",
   "id": "11c132ee",
   "metadata": {},
   "source": [
    "# Какого значения аплифта можно достичь, если осуществить воздействие на людей, с момента последней покупки которых прошло 10 и более дней?"
   ]
  },
  {
   "cell_type": "code",
   "execution_count": 14,
   "id": "2581ddab",
   "metadata": {},
   "outputs": [
    {
     "name": "stderr",
     "output_type": "stream",
     "text": [
      "C:\\Users\\Андрей\\AppData\\Local\\Temp\\3\\ipykernel_13788\\541311909.py:2: SettingWithCopyWarning: \n",
      "A value is trying to be set on a copy of a slice from a DataFrame.\n",
      "Try using .loc[row_indexer,col_indexer] = value instead\n",
      "\n",
      "See the caveats in the documentation: https://pandas.pydata.org/pandas-docs/stable/user_guide/indexing.html#returning-a-view-versus-a-copy\n",
      "  df['transaction_datetime'] = df['transaction_datetime'].apply(lambda x: date.fromisoformat(x.split()[0]))\n"
     ]
    },
    {
     "data": {
      "text/plain": [
       "0.03724156974927306"
      ]
     },
     "execution_count": 14,
     "metadata": {},
     "output_type": "execute_result"
    }
   ],
   "source": [
    "df = purchase[['client_id', 'transaction_datetime']]\n",
    "df['transaction_datetime'] = df['transaction_datetime'].apply(lambda x: date.fromisoformat(x.split()[0]))\n",
    "df = df.groupby('client_id').max()\n",
    "df = df.rename(columns={'transaction_datetime': 'last_trans'}).reset_index()\n",
    "df = df.merge(data, on='client_id', how='left')\n",
    "laste_date = date(2019, 3, 18)\n",
    "df['more'] = df.last_trans.apply(lambda date: (laste_date - date).days >= 10)\n",
    "\n",
    "df_ = df[df.more]\n",
    "uplift = df_.loc[df_['treatment_flg']==1, 'purchased'].mean() - df_.loc[df_['treatment_flg']==0, 'purchased'].mean()\n",
    "uplift"
   ]
  },
  {
   "cell_type": "markdown",
   "id": "819f8719",
   "metadata": {},
   "source": [
    "# Какова доля продукции собственного производства в покупках среди всех покупок?"
   ]
  },
  {
   "cell_type": "code",
   "execution_count": 15,
   "id": "a9305561",
   "metadata": {},
   "outputs": [
    {
     "data": {
      "text/plain": [
       "0.1523224771222515"
      ]
     },
     "execution_count": 15,
     "metadata": {},
     "output_type": "execute_result"
    }
   ],
   "source": [
    "df = purchase[['client_id', 'product_id']]\n",
    "df = df.merge(products[['product_id', 'is_own_trademark']], on='product_id', how='left')\n",
    "df[df.is_own_trademark == 1].shape[0] / df.shape[0]"
   ]
  },
  {
   "cell_type": "markdown",
   "id": "c7e18164",
   "metadata": {},
   "source": [
    "# Влияет ли факт покупки самого популярного продукта на аплифт? Если влияет, то каково значение аплифта?"
   ]
  },
  {
   "cell_type": "code",
   "execution_count": 16,
   "id": "834035b6",
   "metadata": {},
   "outputs": [
    {
     "data": {
      "text/html": [
       "<div>\n",
       "<style scoped>\n",
       "    .dataframe tbody tr th:only-of-type {\n",
       "        vertical-align: middle;\n",
       "    }\n",
       "\n",
       "    .dataframe tbody tr th {\n",
       "        vertical-align: top;\n",
       "    }\n",
       "\n",
       "    .dataframe thead th {\n",
       "        text-align: right;\n",
       "    }\n",
       "</style>\n",
       "<table border=\"1\" class=\"dataframe\">\n",
       "  <thead>\n",
       "    <tr style=\"text-align: right;\">\n",
       "      <th></th>\n",
       "      <th>client_id</th>\n",
       "    </tr>\n",
       "    <tr>\n",
       "      <th>product_id</th>\n",
       "      <th></th>\n",
       "    </tr>\n",
       "  </thead>\n",
       "  <tbody>\n",
       "    <tr>\n",
       "      <th>4009f09b04</th>\n",
       "      <td>636488</td>\n",
       "    </tr>\n",
       "    <tr>\n",
       "      <th>15ccaa8685</th>\n",
       "      <td>219727</td>\n",
       "    </tr>\n",
       "    <tr>\n",
       "      <th>bf07df54e1</th>\n",
       "      <td>144643</td>\n",
       "    </tr>\n",
       "    <tr>\n",
       "      <th>3e038662c0</th>\n",
       "      <td>134126</td>\n",
       "    </tr>\n",
       "    <tr>\n",
       "      <th>4dcf79043e</th>\n",
       "      <td>129695</td>\n",
       "    </tr>\n",
       "  </tbody>\n",
       "</table>\n",
       "</div>"
      ],
      "text/plain": [
       "            client_id\n",
       "product_id           \n",
       "4009f09b04     636488\n",
       "15ccaa8685     219727\n",
       "bf07df54e1     144643\n",
       "3e038662c0     134126\n",
       "4dcf79043e     129695"
      ]
     },
     "execution_count": 16,
     "metadata": {},
     "output_type": "execute_result"
    }
   ],
   "source": [
    "df = purchase[['client_id', 'product_id']]\n",
    "df = df.groupby(by=['product_id']).count()\n",
    "df.sort_values(by=['client_id'], ascending=False).head()"
   ]
  },
  {
   "cell_type": "code",
   "execution_count": 17,
   "id": "ba243d4e",
   "metadata": {},
   "outputs": [
    {
     "data": {
      "text/plain": [
       "0.026437105461474042"
      ]
     },
     "execution_count": 17,
     "metadata": {},
     "output_type": "execute_result"
    }
   ],
   "source": [
    "def get_buy_popular(client):\n",
    "    try:\n",
    "        return (tmp.loc[client, 'product_id'] == '4009f09b04').any()\n",
    "    except:\n",
    "        return tmp.loc[client, 'product_id'] == '4009f09b04'\n",
    "\n",
    "\n",
    "tmp = purchase[['client_id', 'product_id']].set_index('client_id')\n",
    "df = data.copy()\n",
    "df['is_buy_popular'] = df['client_id'].apply(get_buy_popular)\n",
    "df_ = df[df.is_buy_popular]\n",
    "uplift = df_.loc[df_['treatment_flg']==1, 'purchased'].mean() - df_.loc[df_['treatment_flg']==0, 'purchased'].mean()\n",
    "uplift"
   ]
  },
  {
   "cell_type": "markdown",
   "id": "2f71a178",
   "metadata": {},
   "source": [
    "# Вопрос 8\n",
    "Разделим покупателей на две группы: владеют картой покупателя > 100 дней (группа А), владеют картой покупателя <= 100 дней (группа Б). Правда ли то, что аплифт в группе А меньше, чем в группе Б? Если правда, то на сколько меньше (разница между процентами)?"
   ]
  },
  {
   "cell_type": "code",
   "execution_count": 18,
   "id": "8efaf599",
   "metadata": {},
   "outputs": [
    {
     "data": {
      "text/plain": [
       "(0.031109531100951826, 0.05470674738360215, True, 0.023597216282650324)"
      ]
     },
     "execution_count": 18,
     "metadata": {},
     "output_type": "execute_result"
    }
   ],
   "source": [
    "df = data.merge(clients[['client_id', 'first_issue_date']], on='client_id', how='left')\n",
    "df['first_issue_date'] = df['first_issue_date'].apply(lambda d: date.fromisoformat(d.split()[0]))\n",
    "df['group'] = df['first_issue_date'].apply(lambda d: (laste_date - d).days > 100)\n",
    "\n",
    "df_A = df[df.group]\n",
    "upliftA = df_A.loc[df_A['treatment_flg']==1, 'purchased'].mean() - df_A.loc[df_A['treatment_flg']==0, 'purchased'].mean()\n",
    "\n",
    "df_B = df[~df.group]\n",
    "upliftB = df_B.loc[df_B['treatment_flg']==1, 'purchased'].mean() - df_B.loc[df_B['treatment_flg']==0, 'purchased'].mean()\n",
    "\n",
    "upliftA, upliftB, upliftA < upliftB, upliftB - upliftA"
   ]
  },
  {
   "cell_type": "markdown",
   "id": "642a0451",
   "metadata": {},
   "source": [
    "# Вопрос 9\n",
    "Разделим покупателей на две группы: покупали продукты собственного производства хоть раз (группа А), вообще не покупали продукты собственного производства (группа Б). Правда ли то, что аплифт в группе А меньше чем в группе Б? Если правда, то на сколько меньше? (округлить до среднего)"
   ]
  },
  {
   "cell_type": "code",
   "execution_count": 19,
   "id": "6055d1b2",
   "metadata": {},
   "outputs": [],
   "source": [
    "df = purchase[['client_id', 'product_id']]\n",
    "df = df.merge(products[['product_id', 'is_own_trademark']], on='product_id', how='left')\n",
    "df = df.groupby(by=['client_id']).sum('is_own_trademark')\n",
    "df = df.reset_index()\n",
    "df = data.merge(df, on='client_id', how='left')\n",
    "df['group']= df.is_own_trademark.apply(lambda x: x > 0)"
   ]
  },
  {
   "cell_type": "code",
   "execution_count": 20,
   "id": "a9d410d4",
   "metadata": {},
   "outputs": [
    {
     "data": {
      "text/plain": [
       "(0.03174733889332593, 0.07902768028809476, True, 0.04728034139476883)"
      ]
     },
     "execution_count": 20,
     "metadata": {},
     "output_type": "execute_result"
    }
   ],
   "source": [
    "df_A = df[df.group]\n",
    "upliftA = df_A.loc[df_A['treatment_flg']==1, 'purchased'].mean() - df_A.loc[df_A['treatment_flg']==0, 'purchased'].mean()\n",
    "\n",
    "df_B = df[~df.group]\n",
    "upliftB = df_B.loc[df_B['treatment_flg']==1, 'purchased'].mean() - df_B.loc[df_B['treatment_flg']==0, 'purchased'].mean()\n",
    "\n",
    "upliftA, upliftB, upliftA < upliftB, upliftB - upliftA"
   ]
  },
  {
   "cell_type": "markdown",
   "id": "5afea557",
   "metadata": {},
   "source": [
    "# Вопрос 10\n",
    "Разделим покупателей на две группы. В группе А у большей части покупок клиента чек больше среднего чека по всей выборке. В группе Б у  большей части покупок клиента чек меньше среднего чека по всей выборке. Правда ли то, что аплифт в группе А меньше, чем в группе Б?"
   ]
  },
  {
   "cell_type": "code",
   "execution_count": 21,
   "id": "c23fca1e",
   "metadata": {},
   "outputs": [],
   "source": [
    "df = purchase[['client_id', 'transaction_id', 'purchase_sum']].drop_duplicates('transaction_id')\n",
    "mean = df.purchase_sum.mean()\n",
    "df = df.set_index('client_id')\n",
    "df_main = data.copy()"
   ]
  },
  {
   "cell_type": "code",
   "execution_count": 22,
   "id": "0678ab65",
   "metadata": {},
   "outputs": [],
   "source": [
    "df_main['group'] = df_main['client_id'].apply(lambda client: \n",
    "                                              (df.loc[client, 'purchase_sum'] > mean)\n",
    "                                              .sum() > df.loc[client].shape[0] / 2)"
   ]
  },
  {
   "cell_type": "code",
   "execution_count": 23,
   "id": "e400c0e3",
   "metadata": {},
   "outputs": [
    {
     "data": {
      "text/plain": [
       "(0.030065406049781362, 0.035237203184547705, True, 0.005171797134766343)"
      ]
     },
     "execution_count": 23,
     "metadata": {},
     "output_type": "execute_result"
    }
   ],
   "source": [
    "df_A = df_main[df_main.group]\n",
    "upliftA = df_A.loc[df_A['treatment_flg']==1, 'purchased'].mean() - df_A.loc[df_A['treatment_flg']==0, 'purchased'].mean()\n",
    "\n",
    "df_B = df_main[~df_main.group]\n",
    "upliftB = df_B.loc[df_B['treatment_flg']==1, 'purchased'].mean() - df_B.loc[df_B['treatment_flg']==0, 'purchased'].mean()\n",
    "\n",
    "upliftA, upliftB, upliftA < upliftB, upliftB - upliftA"
   ]
  }
 ],
 "metadata": {
  "kernelspec": {
   "display_name": "Python 3 (ipykernel)",
   "language": "python",
   "name": "python3"
  },
  "language_info": {
   "codemirror_mode": {
    "name": "ipython",
    "version": 3
   },
   "file_extension": ".py",
   "mimetype": "text/x-python",
   "name": "python",
   "nbconvert_exporter": "python",
   "pygments_lexer": "ipython3",
   "version": "3.9.15"
  },
  "toc": {
   "base_numbering": 1,
   "nav_menu": {},
   "number_sections": true,
   "sideBar": true,
   "skip_h1_title": false,
   "title_cell": "Table of Contents",
   "title_sidebar": "Contents",
   "toc_cell": false,
   "toc_position": {},
   "toc_section_display": true,
   "toc_window_display": false
  }
 },
 "nbformat": 4,
 "nbformat_minor": 5
}
