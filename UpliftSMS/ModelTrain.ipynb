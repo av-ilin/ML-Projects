{
 "cells": [
  {
   "cell_type": "code",
   "execution_count": 1,
   "id": "8fa6124c",
   "metadata": {},
   "outputs": [],
   "source": [
    "import pandas as pd\n",
    "import numpy as np\n",
    "import catboost\n",
    "from sklearn.model_selection import train_test_split\n",
    "from sklearn.metrics import classification_report\n",
    "from sklearn.metrics import roc_auc_score\n",
    "from IPython.display import clear_output"
   ]
  },
  {
   "cell_type": "markdown",
   "id": "c2f899d0",
   "metadata": {},
   "source": [
    "# SK-Model"
   ]
  },
  {
   "cell_type": "code",
   "execution_count": 181,
   "id": "77c16836",
   "metadata": {
    "scrolled": true
   },
   "outputs": [
    {
     "data": {
      "text/html": [
       "<div>\n",
       "<style scoped>\n",
       "    .dataframe tbody tr th:only-of-type {\n",
       "        vertical-align: middle;\n",
       "    }\n",
       "\n",
       "    .dataframe tbody tr th {\n",
       "        vertical-align: top;\n",
       "    }\n",
       "\n",
       "    .dataframe thead th {\n",
       "        text-align: right;\n",
       "    }\n",
       "</style>\n",
       "<table border=\"1\" class=\"dataframe\">\n",
       "  <thead>\n",
       "    <tr style=\"text-align: right;\">\n",
       "      <th></th>\n",
       "      <th>client_id</th>\n",
       "      <th>treatment_flg</th>\n",
       "      <th>purchased</th>\n",
       "      <th>age</th>\n",
       "      <th>gender</th>\n",
       "      <th>first_issue_date</th>\n",
       "      <th>first_redeem_date</th>\n",
       "      <th>issue_redeem_delay</th>\n",
       "      <th>expresS</th>\n",
       "      <th>mean_sum</th>\n",
       "      <th>receipt_cnt</th>\n",
       "    </tr>\n",
       "  </thead>\n",
       "  <tbody>\n",
       "    <tr>\n",
       "      <th>0</th>\n",
       "      <td>ad6561e2d8</td>\n",
       "      <td>1</td>\n",
       "      <td>1</td>\n",
       "      <td>50</td>\n",
       "      <td>F</td>\n",
       "      <td>1512322431</td>\n",
       "      <td>1.527102e+09</td>\n",
       "      <td>14779510.0</td>\n",
       "      <td>0.0</td>\n",
       "      <td>270.035250</td>\n",
       "      <td>7</td>\n",
       "    </tr>\n",
       "    <tr>\n",
       "      <th>1</th>\n",
       "      <td>7c1ccbf93f</td>\n",
       "      <td>1</td>\n",
       "      <td>1</td>\n",
       "      <td>24</td>\n",
       "      <td>F</td>\n",
       "      <td>1510331629</td>\n",
       "      <td>1.519326e+09</td>\n",
       "      <td>8994516.0</td>\n",
       "      <td>0.0</td>\n",
       "      <td>425.500000</td>\n",
       "      <td>1</td>\n",
       "    </tr>\n",
       "    <tr>\n",
       "      <th>2</th>\n",
       "      <td>b58fadcab6</td>\n",
       "      <td>1</td>\n",
       "      <td>1</td>\n",
       "      <td>36</td>\n",
       "      <td>U</td>\n",
       "      <td>1509657465</td>\n",
       "      <td>1.537045e+09</td>\n",
       "      <td>27387871.0</td>\n",
       "      <td>0.0</td>\n",
       "      <td>429.447576</td>\n",
       "      <td>15</td>\n",
       "    </tr>\n",
       "    <tr>\n",
       "      <th>3</th>\n",
       "      <td>e99e6fabb9</td>\n",
       "      <td>0</td>\n",
       "      <td>0</td>\n",
       "      <td>79</td>\n",
       "      <td>F</td>\n",
       "      <td>1526466080</td>\n",
       "      <td>1.527713e+09</td>\n",
       "      <td>1247284.0</td>\n",
       "      <td>0.0</td>\n",
       "      <td>220.923077</td>\n",
       "      <td>0</td>\n",
       "    </tr>\n",
       "    <tr>\n",
       "      <th>4</th>\n",
       "      <td>27fb6f8520</td>\n",
       "      <td>1</td>\n",
       "      <td>1</td>\n",
       "      <td>34</td>\n",
       "      <td>F</td>\n",
       "      <td>1500320188</td>\n",
       "      <td>1.513332e+09</td>\n",
       "      <td>13012137.0</td>\n",
       "      <td>-50.0</td>\n",
       "      <td>329.540333</td>\n",
       "      <td>8</td>\n",
       "    </tr>\n",
       "  </tbody>\n",
       "</table>\n",
       "</div>"
      ],
      "text/plain": [
       "    client_id  treatment_flg  purchased  age gender  first_issue_date  \\\n",
       "0  ad6561e2d8              1          1   50      F        1512322431   \n",
       "1  7c1ccbf93f              1          1   24      F        1510331629   \n",
       "2  b58fadcab6              1          1   36      U        1509657465   \n",
       "3  e99e6fabb9              0          0   79      F        1526466080   \n",
       "4  27fb6f8520              1          1   34      F        1500320188   \n",
       "\n",
       "   first_redeem_date  issue_redeem_delay  expresS    mean_sum  receipt_cnt  \n",
       "0       1.527102e+09          14779510.0      0.0  270.035250            7  \n",
       "1       1.519326e+09           8994516.0      0.0  425.500000            1  \n",
       "2       1.537045e+09          27387871.0      0.0  429.447576           15  \n",
       "3       1.527713e+09           1247284.0      0.0  220.923077            0  \n",
       "4       1.513332e+09          13012137.0    -50.0  329.540333            8  "
      ]
     },
     "execution_count": 181,
     "metadata": {},
     "output_type": "execute_result"
    }
   ],
   "source": [
    "data = pd.read_csv('artifacts/data_train.csv')\n",
    "data = data.drop(columns=['card_own', 'from_redeem',  'regularR', 'regularS', 'expresR', 'trademark', 'popular',\n",
    "                          'n_purchases', 'alcohol', 'netto', 'frequency', 'last_p', 'popular_store', 'popular_brand',\n",
    "                          'popular_lvl3', 'popular_vr', 'trn_red', 'trn_iss', 'popular_cnt', 'receipt',\n",
    "                          'full_sum', 'max_sum', 'min_sum'])\n",
    "data.head()"
   ]
  },
  {
   "cell_type": "code",
   "execution_count": 182,
   "id": "04f004e2",
   "metadata": {},
   "outputs": [],
   "source": [
    "X_train, X_valid, y_train, y_valid = train_test_split(data.drop(columns=['purchased', 'client_id']),\n",
    "                                                      data['purchased'],\n",
    "                                                      test_size=0.1,\n",
    "                                                      shuffle=True,\n",
    "                                                      stratify=data['purchased'],\n",
    "                                                      random_state=42)\n",
    "\n",
    "treat_train = X_train.treatment_flg\n",
    "treat_valid = X_valid.treatment_flg\n",
    "X_train = X_train.drop(columns=['treatment_flg'])\n",
    "X_valid = X_valid.drop(columns=['treatment_flg'])\n",
    "cat_features = ['gender']"
   ]
  },
  {
   "cell_type": "code",
   "execution_count": 183,
   "id": "ac995f5f",
   "metadata": {},
   "outputs": [
    {
     "name": "stdout",
     "output_type": "stream",
     "text": [
      "Gini: 0.07661929723890482\n",
      "Qini: 0.04018266863198764\n",
      "UASC: 0.05784724702096063\n"
     ]
    }
   ],
   "source": [
    "from sklift.models import ClassTransformation\n",
    "from sklift.metrics import qini_auc_score\n",
    "from sklift.metrics import uplift_auc_score\n",
    "\n",
    "\n",
    "def score(model, X_valid, y_valid, treat_valid):\n",
    "    uplift = model.predict(X_valid)\n",
    "    print('Gini:', roc_auc_score(y_valid == treat_valid, uplift) * 2 - 1)\n",
    "    print('Qini:', qini_auc_score(y_true=y_valid, uplift=uplift, treatment=treat_valid))\n",
    "    print('UASC:', uplift_auc_score(y_true=y_valid, uplift=uplift, treatment=treat_valid))\n",
    "\n",
    "    \n",
    "'''\n",
    "Gini: 0.07661709179349696\n",
    "Qini: 0.04018105835527764\n",
    "UASC: 0.057844425558613854\n",
    "'''\n",
    "estimator = catboost.CatBoostClassifier(iterations=2**10, task_type=\"GPU\", random_state=42)\n",
    "model = ClassTransformation(estimator=estimator)\n",
    "model.fit(\n",
    "    X=X_train,\n",
    "    y=y_train,\n",
    "    treatment=treat_train,\n",
    "    estimator_fit_params={'cat_features': cat_features}\n",
    ")\n",
    "clear_output(wait=True)\n",
    "score(model, X_valid, y_valid, treat_valid)"
   ]
  },
  {
   "cell_type": "code",
   "execution_count": 121,
   "id": "6c3ed6b8",
   "metadata": {},
   "outputs": [
    {
     "data": {
      "text/html": [
       "<div>\n",
       "<style scoped>\n",
       "    .dataframe tbody tr th:only-of-type {\n",
       "        vertical-align: middle;\n",
       "    }\n",
       "\n",
       "    .dataframe tbody tr th {\n",
       "        vertical-align: top;\n",
       "    }\n",
       "\n",
       "    .dataframe thead th {\n",
       "        text-align: right;\n",
       "    }\n",
       "</style>\n",
       "<table border=\"1\" class=\"dataframe\">\n",
       "  <thead>\n",
       "    <tr style=\"text-align: right;\">\n",
       "      <th></th>\n",
       "      <th>feature_name</th>\n",
       "      <th>feature_score</th>\n",
       "    </tr>\n",
       "  </thead>\n",
       "  <tbody>\n",
       "    <tr>\n",
       "      <th>0</th>\n",
       "      <td>first_redeem_date</td>\n",
       "      <td>27.362541</td>\n",
       "    </tr>\n",
       "    <tr>\n",
       "      <th>1</th>\n",
       "      <td>age</td>\n",
       "      <td>13.967593</td>\n",
       "    </tr>\n",
       "    <tr>\n",
       "      <th>2</th>\n",
       "      <td>mean_sum</td>\n",
       "      <td>13.150289</td>\n",
       "    </tr>\n",
       "    <tr>\n",
       "      <th>3</th>\n",
       "      <td>first_issue_date</td>\n",
       "      <td>12.180607</td>\n",
       "    </tr>\n",
       "    <tr>\n",
       "      <th>4</th>\n",
       "      <td>receipt_cnt</td>\n",
       "      <td>11.573199</td>\n",
       "    </tr>\n",
       "    <tr>\n",
       "      <th>5</th>\n",
       "      <td>issue_redeem_delay</td>\n",
       "      <td>11.222169</td>\n",
       "    </tr>\n",
       "    <tr>\n",
       "      <th>6</th>\n",
       "      <td>expresS</td>\n",
       "      <td>6.443398</td>\n",
       "    </tr>\n",
       "    <tr>\n",
       "      <th>7</th>\n",
       "      <td>gender</td>\n",
       "      <td>4.100204</td>\n",
       "    </tr>\n",
       "  </tbody>\n",
       "</table>\n",
       "</div>"
      ],
      "text/plain": [
       "         feature_name  feature_score\n",
       "0   first_redeem_date      27.362541\n",
       "1                 age      13.967593\n",
       "2            mean_sum      13.150289\n",
       "3    first_issue_date      12.180607\n",
       "4         receipt_cnt      11.573199\n",
       "5  issue_redeem_delay      11.222169\n",
       "6             expresS       6.443398\n",
       "7              gender       4.100204"
      ]
     },
     "execution_count": 121,
     "metadata": {},
     "output_type": "execute_result"
    }
   ],
   "source": [
    "pd.DataFrame({\n",
    "    'feature_name': model.estimator.feature_names_,\n",
    "    'feature_score': model.estimator.feature_importances_\n",
    "}).sort_values('feature_score', ascending=False).reset_index(drop=True)"
   ]
  },
  {
   "cell_type": "code",
   "execution_count": 141,
   "id": "a0678ef7",
   "metadata": {},
   "outputs": [],
   "source": [
    "estimator = catboost.CatBoostClassifier(iterations=2**10, task_type=\"GPU\", random_state=42)\n",
    "model = ClassTransformation(estimator=estimator)\n",
    "model.fit(\n",
    "    X=data.drop(columns=['purchased', 'client_id', 'treatment_flg']),\n",
    "    y=data['purchased'],\n",
    "    treatment=data['treatment_flg'],\n",
    "    estimator_fit_params={'cat_features': cat_features}\n",
    ")\n",
    "clear_output()"
   ]
  },
  {
   "cell_type": "code",
   "execution_count": 142,
   "id": "18912a33",
   "metadata": {},
   "outputs": [],
   "source": [
    "import pickle\n",
    "\n",
    "\n",
    "with open('artifacts/model.ml', 'wb') as file:\n",
    "    pickle.dump(model, file)"
   ]
  },
  {
   "cell_type": "markdown",
   "id": "66a12ced",
   "metadata": {},
   "source": [
    "# DLC::Research"
   ]
  },
  {
   "cell_type": "markdown",
   "id": "2103be76",
   "metadata": {},
   "source": [
    "## SK-TwoModels (ddr_treatment)"
   ]
  },
  {
   "cell_type": "code",
   "execution_count": 10,
   "id": "77b0f43f",
   "metadata": {},
   "outputs": [
    {
     "name": "stdout",
     "output_type": "stream",
     "text": [
      "Gini: 0.041325145957602505\n"
     ]
    }
   ],
   "source": [
    "from sklift.models import TwoModels\n",
    "\n",
    "\n",
    "def score(model, X_test, y_test):\n",
    "    uplift = model.predict(X_test)\n",
    "    print('Gini:', roc_auc_score(y_test, uplift) * 2 - 1)\n",
    "\n",
    "    \n",
    "estimatorT = catboost.CatBoostClassifier(iterations=2**10, task_type=\"GPU\", random_state=42)\n",
    "estimatorC = catboost.CatBoostClassifier(iterations=2**10, task_type=\"GPU\", random_state=42)\n",
    "model = TwoModels(\n",
    "    estimator_trmnt=estimatorT, \n",
    "    estimator_ctrl=estimatorC, \n",
    "    method='ddr_treatment'\n",
    ")\n",
    "model.fit(\n",
    "    X=X_train,\n",
    "    y=y_train,\n",
    "    treatment=treat_train,\n",
    "    estimator_trmnt_fit_params={'cat_features': cat_features}, \n",
    "    estimator_ctrl_fit_params={'cat_features': cat_features}\n",
    ")\n",
    "clear_output(wait=True)\n",
    "score(model, X_valid, y_valid == treat_valid)"
   ]
  },
  {
   "cell_type": "markdown",
   "id": "1f44ffcd",
   "metadata": {},
   "source": [
    "## SK-TwoModels (ddr_control)"
   ]
  },
  {
   "cell_type": "code",
   "execution_count": 9,
   "id": "94fd7357",
   "metadata": {},
   "outputs": [
    {
     "name": "stdout",
     "output_type": "stream",
     "text": [
      "Gini: 0.05819659912149744\n"
     ]
    }
   ],
   "source": [
    "from sklift.models import TwoModels\n",
    "\n",
    "\n",
    "def score(model, X_test, y_test):\n",
    "    uplift = model.predict(X_test)\n",
    "    print('Gini:', roc_auc_score(y_test, uplift) * 2 - 1)\n",
    "\n",
    "    \n",
    "estimatorT = catboost.CatBoostClassifier(iterations=2**10, task_type=\"GPU\", random_state=42)\n",
    "estimatorC = catboost.CatBoostClassifier(iterations=2**10, task_type=\"GPU\", random_state=42)\n",
    "model = TwoModels(\n",
    "    estimator_trmnt=estimatorT, \n",
    "    estimator_ctrl=estimatorC, \n",
    "    method='ddr_control'\n",
    ")\n",
    "model.fit(\n",
    "    X=X_train,\n",
    "    y=y_train,\n",
    "    treatment=treat_train,\n",
    "    estimator_trmnt_fit_params={'cat_features': cat_features}, \n",
    "    estimator_ctrl_fit_params={'cat_features': cat_features}\n",
    ")\n",
    "clear_output(wait=True)\n",
    "score(model, X_valid, y_valid == treat_valid)"
   ]
  },
  {
   "cell_type": "markdown",
   "id": "bab0a2af",
   "metadata": {},
   "source": [
    "## SK-TwoModels (vanilla)"
   ]
  },
  {
   "cell_type": "code",
   "execution_count": 8,
   "id": "ee7e5906",
   "metadata": {},
   "outputs": [
    {
     "name": "stdout",
     "output_type": "stream",
     "text": [
      "Gini: 0.054259674860168694\n"
     ]
    }
   ],
   "source": [
    "from sklift.models import TwoModels\n",
    "\n",
    "\n",
    "def score(model, X_test, y_test):\n",
    "    uplift = model.predict(X_test)\n",
    "    print('Gini:', roc_auc_score(y_test, uplift) * 2 - 1)\n",
    "\n",
    "    \n",
    "estimatorT = catboost.CatBoostClassifier(iterations=2**10, task_type=\"GPU\", random_state=42)\n",
    "estimatorC = catboost.CatBoostClassifier(iterations=2**10, task_type=\"GPU\", random_state=42)\n",
    "model = TwoModels(\n",
    "    estimator_trmnt=estimatorT, \n",
    "    estimator_ctrl=estimatorC, \n",
    "    method='vanilla'\n",
    ")\n",
    "model.fit(\n",
    "    X=X_train,\n",
    "    y=y_train,\n",
    "    treatment=treat_train,\n",
    "    estimator_trmnt_fit_params={'cat_features': cat_features}, \n",
    "    estimator_ctrl_fit_params={'cat_features': cat_features}\n",
    ")\n",
    "clear_output(wait=True)\n",
    "score(model, X_valid, y_valid == treat_valid)"
   ]
  },
  {
   "cell_type": "markdown",
   "id": "51b50eaa",
   "metadata": {},
   "source": [
    "## SK-SoloModel"
   ]
  },
  {
   "cell_type": "code",
   "execution_count": 5,
   "id": "56a467b1",
   "metadata": {},
   "outputs": [
    {
     "name": "stdout",
     "output_type": "stream",
     "text": [
      "Gini: 0.03914802418638463\n"
     ]
    }
   ],
   "source": [
    "from sklift.models import SoloModel\n",
    "\n",
    "\n",
    "def score(model, X_test, y_test):\n",
    "    uplift = model.predict(X_test)\n",
    "    print('Gini:', roc_auc_score(y_test, uplift) * 2 - 1)\n",
    "\n",
    "    \n",
    "estimator = catboost.CatBoostClassifier(iterations=2**10, task_type=\"GPU\", random_state=42, )\n",
    "model = SoloModel(estimator=estimator)\n",
    "model.fit(\n",
    "    X=X_train,\n",
    "    y=y_train,\n",
    "    treatment=treat_train,\n",
    "    estimator_fit_params={'cat_features': cat_features}\n",
    ")\n",
    "clear_output(wait=True)\n",
    "score(model, X_valid, y_valid == treat_valid)"
   ]
  },
  {
   "cell_type": "markdown",
   "id": "df67d834",
   "metadata": {},
   "source": [
    "## MyModel"
   ]
  },
  {
   "cell_type": "code",
   "execution_count": 16,
   "id": "0614556b",
   "metadata": {},
   "outputs": [],
   "source": [
    "dataT = data[data.treatment_flg == 1].drop(columns=['treatment_flg'])\n",
    "dataC = data[data.treatment_flg == 0].drop(columns=['treatment_flg'])\n",
    "\n",
    "\n",
    "X_trainT, X_validT, y_trainT, y_validT = train_test_split(dataT.drop(columns=['purchased', 'client_id']),\n",
    "                                                          dataT['purchased'],\n",
    "                                                          test_size=0.1,\n",
    "                                                          shuffle=True,\n",
    "                                                          stratify=dataT['purchased'],\n",
    "                                                          random_state=42)\n",
    "\n",
    "\n",
    "X_trainC, X_validC, y_trainC, y_validC = train_test_split(dataC.drop(columns=['purchased', 'client_id']),\n",
    "                                                          dataC['purchased'],\n",
    "                                                          test_size=0.1,\n",
    "                                                          shuffle=True,\n",
    "                                                          stratify=dataC['purchased'],\n",
    "                                                          random_state=42)"
   ]
  },
  {
   "cell_type": "code",
   "execution_count": 17,
   "id": "abde499a",
   "metadata": {},
   "outputs": [
    {
     "name": "stdout",
     "output_type": "stream",
     "text": [
      "              precision    recall  f1-score   support\n",
      "\n",
      "           0       0.58      0.18      0.28      2779\n",
      "           1       0.63      0.91      0.74      4218\n",
      "\n",
      "    accuracy                           0.62      6997\n",
      "   macro avg       0.60      0.55      0.51      6997\n",
      "weighted avg       0.61      0.62      0.56      6997\n",
      "\n"
     ]
    }
   ],
   "source": [
    "def score(model, X_valid, y_valid):\n",
    "    preds = model.predict(X_valid)\n",
    "    print(classification_report(y_valid, preds))\n",
    "    \n",
    "\n",
    "modelC = catboost.CatBoostClassifier(iterations=2**10, task_type=\"GPU\", random_state=42)\n",
    "modelC.fit(X_trainC, y_trainC, cat_features=cat_features)\n",
    "clear_output(wait=True)\n",
    "score(modelC, X_validC, y_validC)"
   ]
  },
  {
   "cell_type": "code",
   "execution_count": 18,
   "id": "b9e50041",
   "metadata": {},
   "outputs": [
    {
     "name": "stdout",
     "output_type": "stream",
     "text": [
      "              precision    recall  f1-score   support\n",
      "\n",
      "           0       0.63      0.20      0.31      2547\n",
      "           1       0.67      0.93      0.78      4459\n",
      "\n",
      "    accuracy                           0.67      7006\n",
      "   macro avg       0.65      0.57      0.54      7006\n",
      "weighted avg       0.66      0.67      0.61      7006\n",
      "\n"
     ]
    }
   ],
   "source": [
    "def score(model, X_valid, y_valid):\n",
    "    preds = model.predict(X_valid)\n",
    "    print(classification_report(y_valid, preds))\n",
    "    \n",
    "    \n",
    "modelT = catboost.CatBoostClassifier(iterations=2**10, task_type=\"GPU\", random_state=42)\n",
    "modelT.fit(X_trainT, y_trainT, cat_features=cat_features)\n",
    "clear_output(wait=True)\n",
    "score(modelT, X_validT, y_validT)"
   ]
  },
  {
   "cell_type": "code",
   "execution_count": 19,
   "id": "3420c06c",
   "metadata": {},
   "outputs": [
    {
     "name": "stdout",
     "output_type": "stream",
     "text": [
      "Gini: 0.01846283483307598\n"
     ]
    }
   ],
   "source": [
    "def score(modelT, modelC, X_test, y_test):\n",
    "    predsC = modelC.predict_proba(X_test)\n",
    "    predsT = modelT.predict_proba(X_test)\n",
    "    uplift = predsT[:, 1] - predsC[:, 1]\n",
    "    print('Gini:', roc_auc_score(y_test, uplift) * 2 - 1)\n",
    "    \n",
    "\n",
    "#best Gini: 0.0437\n",
    "X_test = np.concatenate((X_validT, X_validC))\n",
    "y_test = np.concatenate((y_validT == 1, y_validC == 0))\n",
    "score(modelT, modelC, X_test, y_test)"
   ]
  }
 ],
 "metadata": {
  "kernelspec": {
   "display_name": "Python 3 (ipykernel)",
   "language": "python",
   "name": "python3"
  },
  "language_info": {
   "codemirror_mode": {
    "name": "ipython",
    "version": 3
   },
   "file_extension": ".py",
   "mimetype": "text/x-python",
   "name": "python",
   "nbconvert_exporter": "python",
   "pygments_lexer": "ipython3",
   "version": "3.9.15"
  },
  "toc": {
   "base_numbering": 1,
   "nav_menu": {
    "height": "114px",
    "width": "290px"
   },
   "number_sections": true,
   "sideBar": true,
   "skip_h1_title": false,
   "title_cell": "Table of Contents",
   "title_sidebar": "Contents",
   "toc_cell": false,
   "toc_position": {},
   "toc_section_display": true,
   "toc_window_display": false
  }
 },
 "nbformat": 4,
 "nbformat_minor": 5
}
